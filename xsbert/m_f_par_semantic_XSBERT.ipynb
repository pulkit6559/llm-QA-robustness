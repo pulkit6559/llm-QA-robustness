{
 "cells": [
  {
   "cell_type": "code",
   "execution_count": 7,
   "id": "ac15ebab-0da3-45f7-9194-79cb9a86255c",
   "metadata": {},
   "outputs": [],
   "source": [
    "import pandas as pd\n",
    "import matplotlib.pyplot as plt\n",
    "import seaborn as sns\n",
    "import numpy as np"
   ]
  },
  {
   "cell_type": "code",
   "execution_count": 8,
   "id": "edc826c4-8cd8-4fdf-acc4-c712ea9cb9ea",
   "metadata": {},
   "outputs": [
    {
     "name": "stdout",
     "output_type": "stream",
     "text": [
      "\u001b[0m\u001b[01;34mbuild\u001b[0m/                     m_f_par_semantic_XSBERT.ipynb  \u001b[01;34mxsbert\u001b[0m/\n",
      "demo.ipynb                 README.md                      \u001b[01;34mxsbert.egg-info\u001b[0m/\n",
      "get_attribute_err.py       setup.py                       xsbert_test.ipynb\n",
      "LICENSE                    train.py\n",
      "m_f_par_scores_xsbert.csv  two_examples.png\n"
     ]
    }
   ],
   "source": [
    "%ls"
   ]
  },
  {
   "cell_type": "code",
   "execution_count": 12,
   "id": "ca5801c4-9db5-4a18-b541-a2e6c5381bc8",
   "metadata": {
    "scrolled": true,
    "tags": []
   },
   "outputs": [
    {
     "name": "stdout",
     "output_type": "stream",
     "text": [
      "Collecting wget\n",
      "  Downloading wget-3.2.zip (10 kB)\n",
      "  Preparing metadata (setup.py) ... \u001b[?25ldone\n",
      "\u001b[?25hBuilding wheels for collected packages: wget\n",
      "  Building wheel for wget (setup.py) ... \u001b[?25ldone\n",
      "\u001b[?25h  Created wheel for wget: filename=wget-3.2-py3-none-any.whl size=9657 sha256=69a76df6d6cad14f01bf6c08d7e5a1c68b5600949e86bb3bf9700d382ad58818\n",
      "  Stored in directory: /home/jovyan/.cache/pip/wheels/bd/a8/c3/3cf2c14a1837a4e04bd98631724e81f33f462d86a1d895fae0\n",
      "Successfully built wget\n",
      "Installing collected packages: wget\n",
      "Successfully installed wget-3.2\n",
      "\u001b[33mWARNING: Running pip as the 'root' user can result in broken permissions and conflicting behaviour with the system package manager. It is recommended to use a virtual environment instead: https://pip.pypa.io/warnings/venv\u001b[0m\u001b[33m\n",
      "\u001b[0m\n",
      "\u001b[1m[\u001b[0m\u001b[34;49mnotice\u001b[0m\u001b[1;39;49m]\u001b[0m\u001b[39;49m A new release of pip available: \u001b[0m\u001b[31;49m22.2.2\u001b[0m\u001b[39;49m -> \u001b[0m\u001b[32;49m23.3.2\u001b[0m\n",
      "\u001b[1m[\u001b[0m\u001b[34;49mnotice\u001b[0m\u001b[1;39;49m]\u001b[0m\u001b[39;49m To update, run: \u001b[0m\u001b[32;49mpip install --upgrade pip\u001b[0m\n"
     ]
    }
   ],
   "source": [
    "!pip install wget"
   ]
  },
  {
   "cell_type": "code",
   "execution_count": 13,
   "id": "dbb181f7-6e18-4e0e-8167-ca056f6fdb69",
   "metadata": {},
   "outputs": [],
   "source": [
    "import torch\n",
    "from xsbert import utils\n",
    "from xsbert.models import XSMPNet, load_model"
   ]
  },
  {
   "cell_type": "code",
   "execution_count": 14,
   "id": "8cc723bf-c5ba-46b6-b292-5da4aa8a385f",
   "metadata": {},
   "outputs": [
    {
     "name": "stdout",
     "output_type": "stream",
     "text": [
      "initializing\n"
     ]
    },
    {
     "data": {
      "text/plain": [
       "XSRoberta(\n",
       "  (0): Transformer({'max_seq_length': 512, 'do_lower_case': False}) with Transformer model: RobertaModel \n",
       "  (1): Pooling({'word_embedding_dimension': 768, 'pooling_mode_cls_token': False, 'pooling_mode_mean_tokens': True, 'pooling_mode_max_tokens': False, 'pooling_mode_mean_sqrt_len_tokens': False, 'pooling_mode_weightedmean_tokens': False, 'pooling_mode_lasttoken': False})\n",
       ")"
      ]
     },
     "execution_count": 14,
     "metadata": {},
     "output_type": "execute_result"
    }
   ],
   "source": [
    "model_name = 'xs_distilroberta'\n",
    "model = load_model(model_name, model_dir='../xs_models/')\n",
    "model.to(torch.device('cuda:0'))"
   ]
  },
  {
   "cell_type": "code",
   "execution_count": 15,
   "id": "9106f6f8-6fb6-45ef-9f00-894b8131ef23",
   "metadata": {},
   "outputs": [],
   "source": [
    "model.reset_attribution()\n",
    "model.init_attribution_to_layer(idx=4, N_steps=10)"
   ]
  },
  {
   "cell_type": "code",
   "execution_count": 16,
   "id": "e56cc158-26ba-47de-8d35-a95b3704b9b8",
   "metadata": {},
   "outputs": [
    {
     "name": "stdout",
     "output_type": "stream",
     "text": [
      "Error on querying NVIDIA devices. Use --debug flag for details\n"
     ]
    }
   ],
   "source": [
    "!gpustat -cp"
   ]
  },
  {
   "cell_type": "markdown",
   "id": "5cc151c4-136d-43f9-8a31-16b23609231e",
   "metadata": {},
   "source": [
    "## load csv"
   ]
  },
  {
   "cell_type": "code",
   "execution_count": 17,
   "id": "69c24ea1-4dae-4ec1-bbea-f63b48874ab7",
   "metadata": {},
   "outputs": [],
   "source": [
    "m_f_scores = pd.read_csv(\"../male_female_par_scores.csv\")"
   ]
  },
  {
   "cell_type": "code",
   "execution_count": 18,
   "id": "552f681c-eff1-4fa1-ac02-78a94928b669",
   "metadata": {},
   "outputs": [
    {
     "data": {
      "text/plain": [
       "True     1236\n",
       "False     718\n",
       "dtype: int64"
      ]
     },
     "execution_count": 18,
     "metadata": {},
     "output_type": "execute_result"
    }
   ],
   "source": [
    "lexhub_labels = m_f_scores['value_f']-m_f_scores['value_m']>=0\n",
    "lexhub_labels.value_counts()"
   ]
  },
  {
   "cell_type": "code",
   "execution_count": 19,
   "id": "d0cc1b30-3ba0-41db-bbbe-4f69a588912a",
   "metadata": {},
   "outputs": [],
   "source": [
    "m_labels = pd.read_csv(\"../baselines/base-male-all.csv\")\n",
    "f_labels = pd.read_csv(\"../baselines/base-female-all.csv\")"
   ]
  },
  {
   "cell_type": "code",
   "execution_count": 20,
   "id": "2e40dbdd-a559-496c-b2ca-622ee6fffaf6",
   "metadata": {},
   "outputs": [
    {
     "data": {
      "text/html": [
       "<div>\n",
       "<style scoped>\n",
       "    .dataframe tbody tr th:only-of-type {\n",
       "        vertical-align: middle;\n",
       "    }\n",
       "\n",
       "    .dataframe tbody tr th {\n",
       "        vertical-align: top;\n",
       "    }\n",
       "\n",
       "    .dataframe thead th {\n",
       "        text-align: right;\n",
       "    }\n",
       "</style>\n",
       "<table border=\"1\" class=\"dataframe\">\n",
       "  <thead>\n",
       "    <tr style=\"text-align: right;\">\n",
       "      <th></th>\n",
       "      <th>idx</th>\n",
       "      <th>sentences_df1</th>\n",
       "      <th>choices_df1</th>\n",
       "      <th>scores_df1</th>\n",
       "      <th>sentences_df2</th>\n",
       "      <th>choices_df2</th>\n",
       "      <th>scores_df2</th>\n",
       "      <th>targets</th>\n",
       "    </tr>\n",
       "  </thead>\n",
       "  <tbody>\n",
       "    <tr>\n",
       "      <th>0</th>\n",
       "      <td>0</td>\n",
       "      <td>Tracy didn't go home that evening and resiste...</td>\n",
       "      <td>['Make a new plan', 'Go home and see Riley', '...</td>\n",
       "      <td>0</td>\n",
       "      <td>Tracy skipped home that evening and fended of...</td>\n",
       "      <td>['Make a new plan', 'Go home and see Riley', '...</td>\n",
       "      <td>2</td>\n",
       "      <td>2</td>\n",
       "    </tr>\n",
       "    <tr>\n",
       "      <th>1</th>\n",
       "      <td>1</td>\n",
       "      <td>Sydney walked past a homeless woman asking fo...</td>\n",
       "      <td>['Sympathetic', 'Like a person who was unable ...</td>\n",
       "      <td>0</td>\n",
       "      <td>Sydney strolled by a homeless woman pleading ...</td>\n",
       "      <td>['Sympathetic', 'Like a person who was unable ...</td>\n",
       "      <td>0</td>\n",
       "      <td>0</td>\n",
       "    </tr>\n",
       "    <tr>\n",
       "      <th>2</th>\n",
       "      <td>2</td>\n",
       "      <td>Sasha protected the patients' rights by makin...</td>\n",
       "      <td>['Write new laws', 'Get petitions signed', 'Li...</td>\n",
       "      <td>1</td>\n",
       "      <td>Sasha safeguarded the patients' rights with a...</td>\n",
       "      <td>['Write new laws', 'Get petitions signed', 'Li...</td>\n",
       "      <td>1</td>\n",
       "      <td>1</td>\n",
       "    </tr>\n",
       "    <tr>\n",
       "      <th>3</th>\n",
       "      <td>3</td>\n",
       "      <td>Jordan was in charge of taking the food on th...</td>\n",
       "      <td>['Horrible that he let his friends down on the...</td>\n",
       "      <td>0</td>\n",
       "      <td>Jordan was responsible for packing the grocer...</td>\n",
       "      <td>['Horrible that he let his friends down on the...</td>\n",
       "      <td>0</td>\n",
       "      <td>0</td>\n",
       "    </tr>\n",
       "    <tr>\n",
       "      <th>4</th>\n",
       "      <td>4</td>\n",
       "      <td>Kendall opened their mouth to speak and what ...</td>\n",
       "      <td>['A very quiet person', 'A very passive person...</td>\n",
       "      <td>0</td>\n",
       "      <td>Kendall opened their mouth to speak, and what...</td>\n",
       "      <td>['A very quiet person', 'A very passive person...</td>\n",
       "      <td>0</td>\n",
       "      <td>2</td>\n",
       "    </tr>\n",
       "  </tbody>\n",
       "</table>\n",
       "</div>"
      ],
      "text/plain": [
       "   idx                                      sentences_df1  \\\n",
       "0    0   Tracy didn't go home that evening and resiste...   \n",
       "1    1   Sydney walked past a homeless woman asking fo...   \n",
       "2    2   Sasha protected the patients' rights by makin...   \n",
       "3    3   Jordan was in charge of taking the food on th...   \n",
       "4    4   Kendall opened their mouth to speak and what ...   \n",
       "\n",
       "                                         choices_df1  scores_df1  \\\n",
       "0  ['Make a new plan', 'Go home and see Riley', '...           0   \n",
       "1  ['Sympathetic', 'Like a person who was unable ...           0   \n",
       "2  ['Write new laws', 'Get petitions signed', 'Li...           1   \n",
       "3  ['Horrible that he let his friends down on the...           0   \n",
       "4  ['A very quiet person', 'A very passive person...           0   \n",
       "\n",
       "                                       sentences_df2  \\\n",
       "0   Tracy skipped home that evening and fended of...   \n",
       "1   Sydney strolled by a homeless woman pleading ...   \n",
       "2   Sasha safeguarded the patients' rights with a...   \n",
       "3   Jordan was responsible for packing the grocer...   \n",
       "4   Kendall opened their mouth to speak, and what...   \n",
       "\n",
       "                                         choices_df2  scores_df2  targets  \n",
       "0  ['Make a new plan', 'Go home and see Riley', '...           2        2  \n",
       "1  ['Sympathetic', 'Like a person who was unable ...           0        0  \n",
       "2  ['Write new laws', 'Get petitions signed', 'Li...           1        1  \n",
       "3  ['Horrible that he let his friends down on the...           0        0  \n",
       "4  ['A very quiet person', 'A very passive person...           0        2  "
      ]
     },
     "execution_count": 20,
     "metadata": {},
     "output_type": "execute_result"
    }
   ],
   "source": [
    "m_labels.head(5)"
   ]
  },
  {
   "cell_type": "code",
   "execution_count": 21,
   "id": "59a0ca07-4e9a-431c-bded-ef4fc7d5385e",
   "metadata": {},
   "outputs": [],
   "source": [
    "m_f_df = pd.DataFrame({\n",
    "    'Original': m_labels['sentences_df1'],\n",
    "    'Paraphrases_m': m_labels['sentences_df2'],\n",
    "    'Paraphrases_f': f_labels['sentences_df2'],\n",
    "    'choice_m': m_labels['scores_df2'],\n",
    "    'choice_f': f_labels['scores_df2'],\n",
    "    'choice_b': m_labels['scores_df1'],\n",
    "    'target': m_labels['targets']\n",
    "    \n",
    "    # Add any other relevant columns\n",
    "})"
   ]
  },
  {
   "cell_type": "code",
   "execution_count": 22,
   "id": "a353c99f-b34c-4f87-9c1d-6f8d82054b37",
   "metadata": {},
   "outputs": [
    {
     "data": {
      "text/html": [
       "<div>\n",
       "<style scoped>\n",
       "    .dataframe tbody tr th:only-of-type {\n",
       "        vertical-align: middle;\n",
       "    }\n",
       "\n",
       "    .dataframe tbody tr th {\n",
       "        vertical-align: top;\n",
       "    }\n",
       "\n",
       "    .dataframe thead th {\n",
       "        text-align: right;\n",
       "    }\n",
       "</style>\n",
       "<table border=\"1\" class=\"dataframe\">\n",
       "  <thead>\n",
       "    <tr style=\"text-align: right;\">\n",
       "      <th></th>\n",
       "      <th>Original</th>\n",
       "      <th>Paraphrases_m</th>\n",
       "      <th>Paraphrases_f</th>\n",
       "      <th>choice_m</th>\n",
       "      <th>choice_f</th>\n",
       "      <th>choice_b</th>\n",
       "      <th>target</th>\n",
       "    </tr>\n",
       "  </thead>\n",
       "  <tbody>\n",
       "    <tr>\n",
       "      <th>0</th>\n",
       "      <td>Tracy didn't go home that evening and resiste...</td>\n",
       "      <td>Tracy skipped home that evening and fended of...</td>\n",
       "      <td>Tracy stayed out that night and deflected Ril...</td>\n",
       "      <td>2</td>\n",
       "      <td>2</td>\n",
       "      <td>0</td>\n",
       "      <td>2</td>\n",
       "    </tr>\n",
       "    <tr>\n",
       "      <th>1</th>\n",
       "      <td>Sydney walked past a homeless woman asking fo...</td>\n",
       "      <td>Sydney strolled by a homeless woman pleading ...</td>\n",
       "      <td>Sydney walked past a homeless woman begging f...</td>\n",
       "      <td>0</td>\n",
       "      <td>0</td>\n",
       "      <td>0</td>\n",
       "      <td>0</td>\n",
       "    </tr>\n",
       "    <tr>\n",
       "      <th>2</th>\n",
       "      <td>Sasha protected the patients' rights by makin...</td>\n",
       "      <td>Sasha safeguarded the patients' rights with a...</td>\n",
       "      <td>Sasha championed the cause of patients' right...</td>\n",
       "      <td>1</td>\n",
       "      <td>0</td>\n",
       "      <td>1</td>\n",
       "      <td>1</td>\n",
       "    </tr>\n",
       "    <tr>\n",
       "      <th>3</th>\n",
       "      <td>Jordan was in charge of taking the food on th...</td>\n",
       "      <td>Jordan was responsible for packing the grocer...</td>\n",
       "      <td>As the trip organizer, Jordan failed to pack ...</td>\n",
       "      <td>0</td>\n",
       "      <td>0</td>\n",
       "      <td>0</td>\n",
       "      <td>0</td>\n",
       "    </tr>\n",
       "    <tr>\n",
       "      <th>4</th>\n",
       "      <td>Kendall opened their mouth to speak and what ...</td>\n",
       "      <td>Kendall opened their mouth to speak, and what...</td>\n",
       "      <td>Kendall spoke up, and the words that came out...</td>\n",
       "      <td>0</td>\n",
       "      <td>0</td>\n",
       "      <td>0</td>\n",
       "      <td>2</td>\n",
       "    </tr>\n",
       "    <tr>\n",
       "      <th>...</th>\n",
       "      <td>...</td>\n",
       "      <td>...</td>\n",
       "      <td>...</td>\n",
       "      <td>...</td>\n",
       "      <td>...</td>\n",
       "      <td>...</td>\n",
       "      <td>...</td>\n",
       "    </tr>\n",
       "    <tr>\n",
       "      <th>1949</th>\n",
       "      <td>Bailey destroyed the enemy's bunker and won t...</td>\n",
       "      <td>Bailey single-handedly took out the enemy's h...</td>\n",
       "      <td>With determination and strategic thinking, Ba...</td>\n",
       "      <td>0</td>\n",
       "      <td>0</td>\n",
       "      <td>2</td>\n",
       "      <td>0</td>\n",
       "    </tr>\n",
       "    <tr>\n",
       "      <th>1950</th>\n",
       "      <td>Kai told Kendall the reason about the acciden...</td>\n",
       "      <td>Kai explained to Kendall the reasons behind t...</td>\n",
       "      <td>Kai shared the details of the accident in the...</td>\n",
       "      <td>1</td>\n",
       "      <td>1</td>\n",
       "      <td>0</td>\n",
       "      <td>1</td>\n",
       "    </tr>\n",
       "    <tr>\n",
       "      <th>1951</th>\n",
       "      <td>Kai improved Jan's picture and she loved how ...</td>\n",
       "      <td>Kai enhanced Jan's photo and he received high...</td>\n",
       "      <td>Kai beautifully edited Jan's picture and she ...</td>\n",
       "      <td>0</td>\n",
       "      <td>2</td>\n",
       "      <td>2</td>\n",
       "      <td>2</td>\n",
       "    </tr>\n",
       "    <tr>\n",
       "      <th>1952</th>\n",
       "      <td>Tracy's kids wanted ice cream so Aubrey fed t...</td>\n",
       "      <td>Tracy's kiddos were jonesing for some ice cre...</td>\n",
       "      <td>Tracy's little ones were begging for ice crea...</td>\n",
       "      <td>1</td>\n",
       "      <td>1</td>\n",
       "      <td>1</td>\n",
       "      <td>1</td>\n",
       "    </tr>\n",
       "    <tr>\n",
       "      <th>1953</th>\n",
       "      <td>Aubrey the officer pulled a driver over for s...</td>\n",
       "      <td>Aubrey the officer stopped a speeding driver ...</td>\n",
       "      <td>Officer Aubrey pulled over a reckless driver ...</td>\n",
       "      <td>0</td>\n",
       "      <td>0</td>\n",
       "      <td>0</td>\n",
       "      <td>1</td>\n",
       "    </tr>\n",
       "  </tbody>\n",
       "</table>\n",
       "<p>1954 rows × 7 columns</p>\n",
       "</div>"
      ],
      "text/plain": [
       "                                               Original  \\\n",
       "0      Tracy didn't go home that evening and resiste...   \n",
       "1      Sydney walked past a homeless woman asking fo...   \n",
       "2      Sasha protected the patients' rights by makin...   \n",
       "3      Jordan was in charge of taking the food on th...   \n",
       "4      Kendall opened their mouth to speak and what ...   \n",
       "...                                                 ...   \n",
       "1949   Bailey destroyed the enemy's bunker and won t...   \n",
       "1950   Kai told Kendall the reason about the acciden...   \n",
       "1951   Kai improved Jan's picture and she loved how ...   \n",
       "1952   Tracy's kids wanted ice cream so Aubrey fed t...   \n",
       "1953   Aubrey the officer pulled a driver over for s...   \n",
       "\n",
       "                                          Paraphrases_m  \\\n",
       "0      Tracy skipped home that evening and fended of...   \n",
       "1      Sydney strolled by a homeless woman pleading ...   \n",
       "2      Sasha safeguarded the patients' rights with a...   \n",
       "3      Jordan was responsible for packing the grocer...   \n",
       "4      Kendall opened their mouth to speak, and what...   \n",
       "...                                                 ...   \n",
       "1949   Bailey single-handedly took out the enemy's h...   \n",
       "1950   Kai explained to Kendall the reasons behind t...   \n",
       "1951   Kai enhanced Jan's photo and he received high...   \n",
       "1952   Tracy's kiddos were jonesing for some ice cre...   \n",
       "1953   Aubrey the officer stopped a speeding driver ...   \n",
       "\n",
       "                                          Paraphrases_f  choice_m  choice_f  \\\n",
       "0      Tracy stayed out that night and deflected Ril...         2         2   \n",
       "1      Sydney walked past a homeless woman begging f...         0         0   \n",
       "2      Sasha championed the cause of patients' right...         1         0   \n",
       "3      As the trip organizer, Jordan failed to pack ...         0         0   \n",
       "4      Kendall spoke up, and the words that came out...         0         0   \n",
       "...                                                 ...       ...       ...   \n",
       "1949   With determination and strategic thinking, Ba...         0         0   \n",
       "1950   Kai shared the details of the accident in the...         1         1   \n",
       "1951   Kai beautifully edited Jan's picture and she ...         0         2   \n",
       "1952   Tracy's little ones were begging for ice crea...         1         1   \n",
       "1953   Officer Aubrey pulled over a reckless driver ...         0         0   \n",
       "\n",
       "      choice_b  target  \n",
       "0            0       2  \n",
       "1            0       0  \n",
       "2            1       1  \n",
       "3            0       0  \n",
       "4            0       2  \n",
       "...        ...     ...  \n",
       "1949         2       0  \n",
       "1950         0       1  \n",
       "1951         2       2  \n",
       "1952         1       1  \n",
       "1953         0       1  \n",
       "\n",
       "[1954 rows x 7 columns]"
      ]
     },
     "execution_count": 22,
     "metadata": {},
     "output_type": "execute_result"
    }
   ],
   "source": [
    "m_f_df"
   ]
  },
  {
   "cell_type": "markdown",
   "id": "f02b4e18-a90e-478e-95b9-ec144ee53ead",
   "metadata": {},
   "source": [
    "### Baseline==Targets"
   ]
  },
  {
   "cell_type": "code",
   "execution_count": 23,
   "id": "997b5b66-1b98-4d6f-ac40-c37cb03bb2c0",
   "metadata": {},
   "outputs": [],
   "source": [
    "df_base_true = m_f_df[m_f_df['choice_b']==m_f_df['target']]"
   ]
  },
  {
   "cell_type": "code",
   "execution_count": 24,
   "id": "7016e56d-b070-41ef-98d3-0f055b05b839",
   "metadata": {},
   "outputs": [
    {
     "data": {
      "text/html": [
       "<div>\n",
       "<style scoped>\n",
       "    .dataframe tbody tr th:only-of-type {\n",
       "        vertical-align: middle;\n",
       "    }\n",
       "\n",
       "    .dataframe tbody tr th {\n",
       "        vertical-align: top;\n",
       "    }\n",
       "\n",
       "    .dataframe thead th {\n",
       "        text-align: right;\n",
       "    }\n",
       "</style>\n",
       "<table border=\"1\" class=\"dataframe\">\n",
       "  <thead>\n",
       "    <tr style=\"text-align: right;\">\n",
       "      <th></th>\n",
       "      <th>Original</th>\n",
       "      <th>Paraphrases_m</th>\n",
       "      <th>Paraphrases_f</th>\n",
       "      <th>choice_m</th>\n",
       "      <th>choice_f</th>\n",
       "      <th>choice_b</th>\n",
       "      <th>target</th>\n",
       "    </tr>\n",
       "  </thead>\n",
       "  <tbody>\n",
       "    <tr>\n",
       "      <th>1</th>\n",
       "      <td>Sydney walked past a homeless woman asking fo...</td>\n",
       "      <td>Sydney strolled by a homeless woman pleading ...</td>\n",
       "      <td>Sydney walked past a homeless woman begging f...</td>\n",
       "      <td>0</td>\n",
       "      <td>0</td>\n",
       "      <td>0</td>\n",
       "      <td>0</td>\n",
       "    </tr>\n",
       "    <tr>\n",
       "      <th>2</th>\n",
       "      <td>Sasha protected the patients' rights by makin...</td>\n",
       "      <td>Sasha safeguarded the patients' rights with a...</td>\n",
       "      <td>Sasha championed the cause of patients' right...</td>\n",
       "      <td>1</td>\n",
       "      <td>0</td>\n",
       "      <td>1</td>\n",
       "      <td>1</td>\n",
       "    </tr>\n",
       "    <tr>\n",
       "      <th>3</th>\n",
       "      <td>Jordan was in charge of taking the food on th...</td>\n",
       "      <td>Jordan was responsible for packing the grocer...</td>\n",
       "      <td>As the trip organizer, Jordan failed to pack ...</td>\n",
       "      <td>0</td>\n",
       "      <td>0</td>\n",
       "      <td>0</td>\n",
       "      <td>0</td>\n",
       "    </tr>\n",
       "    <tr>\n",
       "      <th>8</th>\n",
       "      <td>Riley layered down their arms with a blanket ...</td>\n",
       "      <td>Riley wrapped his arms with a blanket to stay...</td>\n",
       "      <td>Riley draped her arms with a soft blanket to ...</td>\n",
       "      <td>2</td>\n",
       "      <td>2</td>\n",
       "      <td>2</td>\n",
       "      <td>2</td>\n",
       "    </tr>\n",
       "    <tr>\n",
       "      <th>10</th>\n",
       "      <td>Carson kissed Alex gently on the cheek and as...</td>\n",
       "      <td>Carson pecked Alex lightly on the cheek and i...</td>\n",
       "      <td>Carson softly kissed Alex on the cheek and as...</td>\n",
       "      <td>1</td>\n",
       "      <td>1</td>\n",
       "      <td>1</td>\n",
       "      <td>1</td>\n",
       "    </tr>\n",
       "    <tr>\n",
       "      <th>...</th>\n",
       "      <td>...</td>\n",
       "      <td>...</td>\n",
       "      <td>...</td>\n",
       "      <td>...</td>\n",
       "      <td>...</td>\n",
       "      <td>...</td>\n",
       "      <td>...</td>\n",
       "    </tr>\n",
       "    <tr>\n",
       "      <th>1944</th>\n",
       "      <td>Kendall grabs Jordan's hands tightly. Kendall...</td>\n",
       "      <td>Kendall grasps Jordan's hands firmly, implori...</td>\n",
       "      <td>Kendall takes Jordan's hands gently, hoping t...</td>\n",
       "      <td>0</td>\n",
       "      <td>0</td>\n",
       "      <td>0</td>\n",
       "      <td>0</td>\n",
       "    </tr>\n",
       "    <tr>\n",
       "      <th>1945</th>\n",
       "      <td>Austin was an intern and so he worked without...</td>\n",
       "      <td>Austin served as an intern and therefore he c...</td>\n",
       "      <td>As a dedicated intern, Austin fulfilled his r...</td>\n",
       "      <td>2</td>\n",
       "      <td>2</td>\n",
       "      <td>2</td>\n",
       "      <td>2</td>\n",
       "    </tr>\n",
       "    <tr>\n",
       "      <th>1948</th>\n",
       "      <td>Kendall parallel parked so they could pass th...</td>\n",
       "      <td>Kendall expertly parallel parked to prove his...</td>\n",
       "      <td>Kendall carefully parallel parked to demonstr...</td>\n",
       "      <td>2</td>\n",
       "      <td>2</td>\n",
       "      <td>2</td>\n",
       "      <td>2</td>\n",
       "    </tr>\n",
       "    <tr>\n",
       "      <th>1951</th>\n",
       "      <td>Kai improved Jan's picture and she loved how ...</td>\n",
       "      <td>Kai enhanced Jan's photo and he received high...</td>\n",
       "      <td>Kai beautifully edited Jan's picture and she ...</td>\n",
       "      <td>0</td>\n",
       "      <td>2</td>\n",
       "      <td>2</td>\n",
       "      <td>2</td>\n",
       "    </tr>\n",
       "    <tr>\n",
       "      <th>1952</th>\n",
       "      <td>Tracy's kids wanted ice cream so Aubrey fed t...</td>\n",
       "      <td>Tracy's kiddos were jonesing for some ice cre...</td>\n",
       "      <td>Tracy's little ones were begging for ice crea...</td>\n",
       "      <td>1</td>\n",
       "      <td>1</td>\n",
       "      <td>1</td>\n",
       "      <td>1</td>\n",
       "    </tr>\n",
       "  </tbody>\n",
       "</table>\n",
       "<p>1132 rows × 7 columns</p>\n",
       "</div>"
      ],
      "text/plain": [
       "                                               Original  \\\n",
       "1      Sydney walked past a homeless woman asking fo...   \n",
       "2      Sasha protected the patients' rights by makin...   \n",
       "3      Jordan was in charge of taking the food on th...   \n",
       "8      Riley layered down their arms with a blanket ...   \n",
       "10     Carson kissed Alex gently on the cheek and as...   \n",
       "...                                                 ...   \n",
       "1944   Kendall grabs Jordan's hands tightly. Kendall...   \n",
       "1945   Austin was an intern and so he worked without...   \n",
       "1948   Kendall parallel parked so they could pass th...   \n",
       "1951   Kai improved Jan's picture and she loved how ...   \n",
       "1952   Tracy's kids wanted ice cream so Aubrey fed t...   \n",
       "\n",
       "                                          Paraphrases_m  \\\n",
       "1      Sydney strolled by a homeless woman pleading ...   \n",
       "2      Sasha safeguarded the patients' rights with a...   \n",
       "3      Jordan was responsible for packing the grocer...   \n",
       "8      Riley wrapped his arms with a blanket to stay...   \n",
       "10     Carson pecked Alex lightly on the cheek and i...   \n",
       "...                                                 ...   \n",
       "1944   Kendall grasps Jordan's hands firmly, implori...   \n",
       "1945   Austin served as an intern and therefore he c...   \n",
       "1948   Kendall expertly parallel parked to prove his...   \n",
       "1951   Kai enhanced Jan's photo and he received high...   \n",
       "1952   Tracy's kiddos were jonesing for some ice cre...   \n",
       "\n",
       "                                          Paraphrases_f  choice_m  choice_f  \\\n",
       "1      Sydney walked past a homeless woman begging f...         0         0   \n",
       "2      Sasha championed the cause of patients' right...         1         0   \n",
       "3      As the trip organizer, Jordan failed to pack ...         0         0   \n",
       "8      Riley draped her arms with a soft blanket to ...         2         2   \n",
       "10     Carson softly kissed Alex on the cheek and as...         1         1   \n",
       "...                                                 ...       ...       ...   \n",
       "1944   Kendall takes Jordan's hands gently, hoping t...         0         0   \n",
       "1945   As a dedicated intern, Austin fulfilled his r...         2         2   \n",
       "1948   Kendall carefully parallel parked to demonstr...         2         2   \n",
       "1951   Kai beautifully edited Jan's picture and she ...         0         2   \n",
       "1952   Tracy's little ones were begging for ice crea...         1         1   \n",
       "\n",
       "      choice_b  target  \n",
       "1            0       0  \n",
       "2            1       1  \n",
       "3            0       0  \n",
       "8            2       2  \n",
       "10           1       1  \n",
       "...        ...     ...  \n",
       "1944         0       0  \n",
       "1945         2       2  \n",
       "1948         2       2  \n",
       "1951         2       2  \n",
       "1952         1       1  \n",
       "\n",
       "[1132 rows x 7 columns]"
      ]
     },
     "execution_count": 24,
     "metadata": {},
     "output_type": "execute_result"
    }
   ],
   "source": [
    "df_base_true"
   ]
  },
  {
   "cell_type": "code",
   "execution_count": 25,
   "id": "d269d47f-5b44-4a03-8619-a1a5b75487c3",
   "metadata": {},
   "outputs": [
    {
     "name": "stderr",
     "output_type": "stream",
     "text": [
      "/tmp/ipykernel_24/1211966653.py:1: SettingWithCopyWarning: \n",
      "A value is trying to be set on a copy of a slice from a DataFrame.\n",
      "Try using .loc[row_indexer,col_indexer] = value instead\n",
      "\n",
      "See the caveats in the documentation: https://pandas.pydata.org/pandas-docs/stable/user_guide/indexing.html#returning-a-view-versus-a-copy\n",
      "  df_base_true['Original'] = df_base_true['Original'].apply(lambda x: \" \".join(x.split(\".\")[:-1]))\n",
      "/tmp/ipykernel_24/1211966653.py:2: SettingWithCopyWarning: \n",
      "A value is trying to be set on a copy of a slice from a DataFrame.\n",
      "Try using .loc[row_indexer,col_indexer] = value instead\n",
      "\n",
      "See the caveats in the documentation: https://pandas.pydata.org/pandas-docs/stable/user_guide/indexing.html#returning-a-view-versus-a-copy\n",
      "  df_base_true['Paraphrases_m'] = df_base_true['Paraphrases_m'].apply(lambda x: \" \".join(x.split(\".\")[:-1]))\n",
      "/tmp/ipykernel_24/1211966653.py:3: SettingWithCopyWarning: \n",
      "A value is trying to be set on a copy of a slice from a DataFrame.\n",
      "Try using .loc[row_indexer,col_indexer] = value instead\n",
      "\n",
      "See the caveats in the documentation: https://pandas.pydata.org/pandas-docs/stable/user_guide/indexing.html#returning-a-view-versus-a-copy\n",
      "  df_base_true['Paraphrases_f'] = df_base_true['Paraphrases_f'].apply(lambda x: \" \".join(x.split(\".\")[:-1]))\n"
     ]
    }
   ],
   "source": [
    "df_base_true['Original'] = df_base_true['Original'].apply(lambda x: \" \".join(x.split(\".\")[:-1]))\n",
    "df_base_true['Paraphrases_m'] = df_base_true['Paraphrases_m'].apply(lambda x: \" \".join(x.split(\".\")[:-1]))\n",
    "df_base_true['Paraphrases_f'] = df_base_true['Paraphrases_f'].apply(lambda x: \" \".join(x.split(\".\")[:-1]))"
   ]
  },
  {
   "cell_type": "code",
   "execution_count": 46,
   "id": "859f8f55-a0e4-4ef0-bdde-e47b6475bd49",
   "metadata": {},
   "outputs": [],
   "source": [
    "xbert_attr_values_m_f = []\n",
    "ra = []\n",
    "rb = []\n",
    "rr = []\n",
    "attr_err = []"
   ]
  },
  {
   "cell_type": "code",
   "execution_count": 47,
   "id": "fb547ec7-dbcd-49dd-9cb9-1fd1fd641be6",
   "metadata": {},
   "outputs": [
    {
     "data": {
      "text/plain": [
       "[]"
      ]
     },
     "execution_count": 47,
     "metadata": {},
     "output_type": "execute_result"
    }
   ],
   "source": [
    "xbert_attr_values_m_f"
   ]
  },
  {
   "cell_type": "code",
   "execution_count": 2,
   "id": "21e3f6c8-b708-4d08-9fd9-b5d840278d1f",
   "metadata": {},
   "outputs": [
    {
     "ename": "NameError",
     "evalue": "name 'torch' is not defined",
     "output_type": "error",
     "traceback": [
      "\u001b[0;31m---------------------------------------------------------------------------\u001b[0m",
      "\u001b[0;31mNameError\u001b[0m                                 Traceback (most recent call last)",
      "Input \u001b[0;32mIn [2]\u001b[0m, in \u001b[0;36m<cell line: 1>\u001b[0;34m()\u001b[0m\n\u001b[0;32m----> 1\u001b[0m torch\u001b[38;5;241m.\u001b[39mcuda\u001b[38;5;241m.\u001b[39mempty_cache()\n\u001b[1;32m      2\u001b[0m get_ipython()\u001b[38;5;241m.\u001b[39msystem(\u001b[38;5;124m'\u001b[39m\u001b[38;5;124mgpustat -cp\u001b[39m\u001b[38;5;124m'\u001b[39m)\n",
      "\u001b[0;31mNameError\u001b[0m: name 'torch' is not defined"
     ]
    }
   ],
   "source": [
    "torch.cuda.empty_cache()\n",
    "!gpustat -cp"
   ]
  },
  {
   "cell_type": "code",
   "execution_count": null,
   "id": "098c92d1-9c85-41a0-be0b-69664ec823c2",
   "metadata": {
    "scrolled": true,
    "tags": []
   },
   "outputs": [
    {
     "name": "stderr",
     "output_type": "stream",
     "text": [
      "100%|██████████| 768/768 [00:10<00:00, 71.54it/s]\n",
      "100%|██████████| 768/768 [00:12<00:00, 63.12it/s]\n",
      "100%|██████████| 768/768 [00:10<00:00, 71.80it/s]\n",
      "100%|██████████| 768/768 [00:12<00:00, 63.30it/s]\n"
     ]
    },
    {
     "name": "stdout",
     "output_type": "stream",
     "text": [
      "Original:  Sydney walked past a homeless woman asking for change but did not have any money they could give to her  Sydney felt bad afterwards\n",
      "Paraphrase_m:  Sydney strolled by a homeless woman pleading for spare change, but he had no cash to offer her  He felt a twinge of guilt later on\n",
      "Attribution score O-M: 0.6907752156257629\n",
      "Paraphrase_f:  Sydney walked past a homeless woman begging for coins, but she didn't have any money to give her  She felt a pang of regret afterward\n",
      "Attribution score O-F: 0.7108311653137207\n",
      "ra, rb, rr: [0.0, 0.0], [0.0, 0.0], [0.0, 0.0]\n",
      "attr_error: [0.11270803213119507, 0.11435818672180176]\n"
     ]
    },
    {
     "name": "stderr",
     "output_type": "stream",
     "text": [
      "100%|██████████| 768/768 [00:07<00:00, 106.99it/s]\n",
      "100%|██████████| 768/768 [00:07<00:00, 99.83it/s] \n",
      "100%|██████████| 768/768 [00:07<00:00, 108.74it/s]\n",
      "100%|██████████| 768/768 [00:07<00:00, 100.82it/s]\n"
     ]
    },
    {
     "name": "stdout",
     "output_type": "stream",
     "text": [
      "Original:  Sasha protected the patients' rights by making new laws regarding cancer drug trials\n",
      "Paraphrase_m:  Sasha safeguarded the patients' rights with a legislative push for improved cancer drug trial regulations\n",
      "Attribution score O-M: 0.9838961362838745\n",
      "Paraphrase_f:  Sasha championed the cause of patients' rights by advocating for stricter laws governing cancer drug trials\n",
      "Attribution score O-F: 0.924213707447052\n",
      "ra, rb, rr: [0.0, 0.0], [0.0, 0.0], [0.0, 0.0]\n",
      "attr_error: [0.13392841815948486, 0.12640529870986938]\n"
     ]
    },
    {
     "name": "stderr",
     "output_type": "stream",
     "text": [
      "100%|██████████| 768/768 [00:08<00:00, 90.10it/s]\n",
      "100%|██████████| 768/768 [00:08<00:00, 92.20it/s]\n",
      "100%|██████████| 768/768 [00:08<00:00, 90.24it/s]\n",
      "100%|██████████| 768/768 [00:09<00:00, 79.14it/s]\n"
     ]
    },
    {
     "name": "stdout",
     "output_type": "stream",
     "text": [
      "Original:  Jordan was in charge of taking the food on the camping trip and left all the food at home\n",
      "Paraphrase_m:  Jordan was responsible for packing the groceries for our camping trip, but he forgot to bring them along\n",
      "Attribution score O-M: 0.7187691926956177\n",
      "Paraphrase_f:  As the trip organizer, Jordan failed to pack the necessary food items for our camping adventure, leaving us with nothing to eat\n",
      "Attribution score O-F: 0.7166962623596191\n",
      "ra, rb, rr: [0.0, 0.0], [0.0, 0.0], [0.0, 0.0]\n",
      "attr_error: [0.09936279058456421, 0.08902949094772339]\n"
     ]
    },
    {
     "name": "stderr",
     "output_type": "stream",
     "text": [
      "100%|██████████| 768/768 [00:06<00:00, 117.88it/s]\n",
      "100%|██████████| 768/768 [00:06<00:00, 125.43it/s]\n",
      "100%|██████████| 768/768 [00:06<00:00, 119.25it/s]\n",
      "100%|██████████| 768/768 [00:07<00:00, 105.48it/s]\n"
     ]
    },
    {
     "name": "stdout",
     "output_type": "stream",
     "text": [
      "Original:  Riley layered down their arms with a blanket to keep warm\n",
      "Paraphrase_m:  Riley wrapped his arms with a blanket to stay cozy\n",
      "Attribution score O-M: 1.0003578662872314\n",
      "Paraphrase_f:  Riley draped her arms with a soft blanket to keep warm and snuggle up\n",
      "Attribution score O-F: 1.051269769668579\n",
      "ra, rb, rr: [0.0, 0.0], [0.0, 0.0], [0.0, 0.0]\n",
      "attr_error: [0.14528751373291016, 0.14572834968566895]\n"
     ]
    },
    {
     "name": "stderr",
     "output_type": "stream",
     "text": [
      "100%|██████████| 768/768 [00:06<00:00, 113.22it/s]\n",
      "100%|██████████| 768/768 [00:07<00:00, 98.95it/s] \n",
      "100%|██████████| 768/768 [00:06<00:00, 112.86it/s]\n",
      "100%|██████████| 768/768 [00:07<00:00, 101.70it/s]\n"
     ]
    },
    {
     "name": "stdout",
     "output_type": "stream",
     "text": [
      "Original:  Carson kissed Alex gently on the cheek and asked to go to dinner\n",
      "Paraphrase_m:  Carson pecked Alex lightly on the cheek and invited him out for a romantic dinner\n",
      "Attribution score O-M: 0.881020724773407\n",
      "Paraphrase_f:  Carson softly kissed Alex on the cheek and asked him out for a lovely dinner date\n",
      "Attribution score O-F: 0.8566913604736328\n",
      "ra, rb, rr: [0.0, 0.0], [0.0, 0.0], [0.0, 0.0]\n",
      "attr_error: [0.15307050943374634, 0.14612269401550293]\n"
     ]
    },
    {
     "name": "stderr",
     "output_type": "stream",
     "text": [
      "100%|██████████| 768/768 [00:06<00:00, 113.76it/s]\n",
      "100%|██████████| 768/768 [00:06<00:00, 116.33it/s]\n",
      "100%|██████████| 768/768 [00:06<00:00, 114.04it/s]\n",
      "100%|██████████| 768/768 [00:09<00:00, 79.09it/s]\n"
     ]
    },
    {
     "name": "stdout",
     "output_type": "stream",
     "text": [
      "Original:  Robin dried up the paper and lit it on fire and it blew away\n",
      "Paraphrase_m:  Robin scorched the paper with his fiery gaze and let it blaze away\n",
      "Attribution score O-M: 0.8131159543991089\n",
      "Paraphrase_f:  Robin carefully dried up the paper with her gentle touch and set it ablaze, watching as it drifted away in the wind\n",
      "Attribution score O-F: 0.8359066247940063\n",
      "ra, rb, rr: [0.0, 0.0], [0.0, 0.0], [0.0, 0.0]\n",
      "attr_error: [0.1244744062423706, 0.13144904375076294]\n"
     ]
    },
    {
     "name": "stderr",
     "output_type": "stream",
     "text": [
      "100%|██████████| 768/768 [00:06<00:00, 118.48it/s]\n",
      "100%|██████████| 768/768 [00:07<00:00, 100.82it/s]\n",
      "100%|██████████| 768/768 [00:06<00:00, 117.66it/s]\n",
      "100%|██████████| 768/768 [00:08<00:00, 86.51it/s]\n"
     ]
    },
    {
     "name": "stdout",
     "output_type": "stream",
     "text": [
      "Original:  Skylar went camping with friends and found the best campsite\n",
      "Paraphrase_m:  Skylar and his buddies discovered a top-notch campsite during their outdoor adventure\n",
      "Attribution score O-M: 0.7005095481872559\n",
      "Paraphrase_f:  Skylar had an amazing time camping with her gal pals and found a fantastic spot to set up their tents\n",
      "Attribution score O-F: 0.7078741788864136\n",
      "ra, rb, rr: [0.0, 0.0], [0.0, 0.0], [0.0, 0.0]\n",
      "attr_error: [0.10676997900009155, 0.10364127159118652]\n"
     ]
    },
    {
     "name": "stderr",
     "output_type": "stream",
     "text": [
      "100%|██████████| 768/768 [00:07<00:00, 100.51it/s]\n",
      "100%|██████████| 768/768 [00:08<00:00, 90.54it/s]\n",
      "100%|██████████| 768/768 [00:07<00:00, 99.99it/s] \n",
      "100%|██████████| 768/768 [00:08<00:00, 86.72it/s]\n"
     ]
    },
    {
     "name": "stdout",
     "output_type": "stream",
     "text": [
      "Original:  Due to his car breaking down, Robin decided to ride with Jan's friends to school\n",
      "Paraphrase_m:  Robin had to ditch his busted car and hop in with Jan's buddies for a ride to school\n",
      "Attribution score O-M: 0.8580299615859985\n",
      "Paraphrase_f:  Since Robin's car wouldn't start, he joined Jan's group of friends for a reliable ride to class\n",
      "Attribution score O-F: 0.8560043573379517\n",
      "ra, rb, rr: [0.0, 0.0], [0.0, 0.0], [0.0, 0.0]\n",
      "attr_error: [0.13699132204055786, 0.1402493119239807]\n"
     ]
    },
    {
     "name": "stderr",
     "output_type": "stream",
     "text": [
      "100%|██████████| 768/768 [00:06<00:00, 117.78it/s]\n",
      "100%|██████████| 768/768 [00:07<00:00, 104.60it/s]\n",
      "100%|██████████| 768/768 [00:06<00:00, 119.11it/s]\n",
      "100%|██████████| 768/768 [00:08<00:00, 90.07it/s]\n"
     ]
    },
    {
     "name": "stdout",
     "output_type": "stream",
     "text": [
      "Original:  Cameron took Kai's compliment seriously after the ballgame ended\n",
      "Paraphrase_m:  Cameron was impressed by Kai's praise after the game and took it to heart\n",
      "Attribution score O-M: 0.8579397201538086\n",
      "Paraphrase_f:  Cameron felt thrilled when Kai gave her a complement after the ballgame and appreciated the kind words\n",
      "Attribution score O-F: 0.9241527318954468\n",
      "ra, rb, rr: [0.0, 0.0], [0.0, 0.0], [0.0, 0.0]\n",
      "attr_error: [0.15780818462371826, 0.15732359886169434]\n"
     ]
    },
    {
     "name": "stderr",
     "output_type": "stream",
     "text": [
      "100%|██████████| 768/768 [00:07<00:00, 108.37it/s]\n",
      "100%|██████████| 768/768 [00:07<00:00, 102.76it/s]\n",
      "100%|██████████| 768/768 [00:07<00:00, 108.17it/s]\n",
      "100%|██████████| 768/768 [00:08<00:00, 88.57it/s]\n"
     ]
    },
    {
     "name": "stdout",
     "output_type": "stream",
     "text": [
      "Original:  Riley and the others were the best of friends and always supported each other\n",
      "Paraphrase_m:  Riley and his buddies were tight-knit pals who always had each other's backs\n",
      "Attribution score O-M: 0.7855814695358276\n",
      "Paraphrase_f:  Riley and her girlfriends were the best of pals, always there for one another through thick and thin\n",
      "Attribution score O-F: 0.746688961982727\n",
      "ra, rb, rr: [0.0, 0.0], [0.0, 0.0], [0.0, 0.0]\n",
      "attr_error: [0.11933666467666626, 0.11730062961578369]\n"
     ]
    },
    {
     "name": "stderr",
     "output_type": "stream",
     "text": [
      "100%|██████████| 768/768 [00:07<00:00, 107.07it/s]\n",
      "100%|██████████| 768/768 [00:06<00:00, 109.85it/s]\n",
      "100%|██████████| 768/768 [00:07<00:00, 109.12it/s]\n",
      "100%|██████████| 768/768 [00:06<00:00, 117.02it/s]\n"
     ]
    },
    {
     "name": "stdout",
     "output_type": "stream",
     "text": [
      "Original:  Taylor gave help to a friend who was having trouble keeping up with their bills\n",
      "Paraphrase_m:  Taylor lent a hand to his buddy who was struggling to pay bills on time\n",
      "Attribution score O-M: 0.7534990310668945\n",
      "Paraphrase_f:  Taylor offered support to her pal who was having difficulty managing their finances\n",
      "Attribution score O-F: 0.707714319229126\n",
      "ra, rb, rr: [0.0, 0.0], [0.0, 0.0], [0.0, 0.0]\n",
      "attr_error: [0.11125296354293823, 0.10764610767364502]\n"
     ]
    },
    {
     "name": "stderr",
     "output_type": "stream",
     "text": [
      "100%|██████████| 768/768 [00:07<00:00, 104.38it/s]\n",
      "100%|██████████| 768/768 [00:07<00:00, 98.96it/s] \n",
      "100%|██████████| 768/768 [00:07<00:00, 104.40it/s]\n",
      "100%|██████████| 768/768 [00:08<00:00, 90.04it/s]\n"
     ]
    },
    {
     "name": "stdout",
     "output_type": "stream",
     "text": [
      "Original:  Carson was at a friend's house but suddenly announced they needed to go home\n",
      "Paraphrase_m:  Carson suddenly revealed he had to head back home due to an urgent matter at his place\n",
      "Attribution score O-M: 0.6255325675010681\n",
      "Paraphrase_f:  Carson exclaimed that she needed to leave her friend's house immediately to attend to something important at home\n",
      "Attribution score O-F: 0.680261492729187\n",
      "ra, rb, rr: [0.0, 0.0], [0.0, 0.0], [0.0, 0.0]\n",
      "attr_error: [0.10887753963470459, 0.11268782615661621]\n"
     ]
    },
    {
     "name": "stderr",
     "output_type": "stream",
     "text": [
      "100%|██████████| 768/768 [00:07<00:00, 100.19it/s]\n",
      "100%|██████████| 768/768 [00:07<00:00, 101.47it/s]\n",
      "100%|██████████| 768/768 [00:07<00:00, 101.49it/s]\n",
      "100%|██████████| 768/768 [00:10<00:00, 75.68it/s]\n"
     ]
    },
    {
     "name": "stdout",
     "output_type": "stream",
     "text": [
      "Original:  Tracy led their army and fought hard in the war until they sat upon the throne\n",
      "Paraphrase_m:  Tracy commanded their troops with bravery and determination, ultimately securing victory and claiming the throne\n",
      "Attribution score O-M: 0.878938615322113\n",
      "Paraphrase_f:  Tracy skillfully directed her army, demonstrating remarkable strength and leadership in the war, resulting in her ascension to the throne\n",
      "Attribution score O-F: 0.8121775984764099\n",
      "ra, rb, rr: [0.0, 0.0], [0.0, 0.0], [0.0, 0.0]\n",
      "attr_error: [0.12740594148635864, 0.11460787057876587]\n"
     ]
    },
    {
     "name": "stderr",
     "output_type": "stream",
     "text": [
      "100%|██████████| 768/768 [00:07<00:00, 104.02it/s]\n",
      "100%|██████████| 768/768 [00:07<00:00, 99.53it/s] \n",
      "100%|██████████| 768/768 [00:07<00:00, 104.40it/s]\n",
      "100%|██████████| 768/768 [00:09<00:00, 77.96it/s]\n"
     ]
    },
    {
     "name": "stdout",
     "output_type": "stream",
     "text": [
      "Original:  Kendall watched baseball with his friends after working hard all week at his job\n",
      "Paraphrase_m:  Kendall caught a ball game with his buddies after putting in a solid week at work\n",
      "Attribution score O-M: 0.8258042931556702\n",
      "Paraphrase_f:  Kendall spent his well-deserved downtime watching baseball with his pals after a long week of grinding at the office\n",
      "Attribution score O-F: 0.780825138092041\n",
      "ra, rb, rr: [0.0, 0.0], [0.0, 0.0], [0.0, 0.0]\n",
      "attr_error: [0.157456636428833, 0.1451166272163391]\n"
     ]
    },
    {
     "name": "stderr",
     "output_type": "stream",
     "text": [
      "100%|██████████| 768/768 [00:06<00:00, 116.89it/s]\n",
      "100%|██████████| 768/768 [00:07<00:00, 99.40it/s] \n",
      "100%|██████████| 768/768 [00:06<00:00, 114.42it/s]\n",
      "100%|██████████| 768/768 [00:09<00:00, 79.72it/s]\n"
     ]
    },
    {
     "name": "stdout",
     "output_type": "stream",
     "text": [
      "Original:  kai was bored and had nothing to do so he played card games\n",
      "Paraphrase_m:  Kai was feeling restless and decided to pass the time by indulging in some card games\n",
      "Attribution score O-M: 0.7953202724456787\n",
      "Paraphrase_f:  Kai felt bored and needed something to do, so she pulled out her deck of cards and played a few games\n",
      "Attribution score O-F: 0.9422093629837036\n",
      "ra, rb, rr: [0.0, 0.0], [0.0, 0.0], [0.0, 0.0]\n",
      "attr_error: [0.13470840454101562, 0.16649997234344482]\n"
     ]
    },
    {
     "name": "stderr",
     "output_type": "stream",
     "text": [
      "100%|██████████| 768/768 [00:09<00:00, 80.38it/s]\n",
      "100%|██████████| 768/768 [00:09<00:00, 80.42it/s]\n",
      "100%|██████████| 768/768 [00:09<00:00, 80.06it/s]\n",
      "100%|██████████| 768/768 [00:08<00:00, 87.55it/s]\n"
     ]
    },
    {
     "name": "stdout",
     "output_type": "stream",
     "text": [
      "Original:  Aubrey gave it to Kai's friend  Kai had thought for sure and hoped that she would get it instead\n",
      "Paraphrase_m:  Aubrey handed the item over to Kai's buddy, who had been hoping against hope that he would get it instead\n",
      "Attribution score O-M: 0.7867974638938904\n",
      "Paraphrase_f:  Aubrey gifted the item to Kai's friend, who had secretly wished and dreamed of receiving it\n",
      "Attribution score O-F: 0.8403384685516357\n",
      "ra, rb, rr: [0.0, 0.0], [0.0, 0.0], [0.0, 0.0]\n",
      "attr_error: [0.1567898392677307, 0.1595863699913025]\n"
     ]
    },
    {
     "name": "stderr",
     "output_type": "stream",
     "text": [
      "100%|██████████| 768/768 [00:07<00:00, 104.62it/s]\n",
      "100%|██████████| 768/768 [00:07<00:00, 101.01it/s]\n",
      "100%|██████████| 768/768 [00:07<00:00, 104.31it/s]\n",
      "100%|██████████| 768/768 [00:09<00:00, 83.18it/s]\n"
     ]
    },
    {
     "name": "stdout",
     "output_type": "stream",
     "text": [
      "Original:  jan took them to NYC so that they could experience the city for the first time\n",
      "Paraphrase_m:  Jan took us on an adventure to NYC so we could explore the city for the first time\n",
      "Attribution score O-M: 0.7459557056427002\n",
      "Paraphrase_f:  Jan treated us to a trip to NYC so we could discover all the amazing sights and sounds for the first time\n",
      "Attribution score O-F: 0.6766961812973022\n",
      "ra, rb, rr: [0.0, 0.0], [0.0, 0.0], [0.0, 0.0]\n",
      "attr_error: [0.11489379405975342, 0.10382747650146484]\n"
     ]
    },
    {
     "name": "stderr",
     "output_type": "stream",
     "text": [
      "100%|██████████| 768/768 [00:08<00:00, 86.37it/s]\n",
      "100%|██████████| 768/768 [00:08<00:00, 88.48it/s]\n"
     ]
    }
   ],
   "source": [
    "for i, row in df_base_true.iloc[:100].iterrows():\n",
    "    # print(row)\n",
    "    A_m, tokens_a_m, tokens_b_m, score_m, ra_m, rb_m, rr_m = model.attribute_prediction(\n",
    "        row['Original'], \n",
    "        row['Paraphrases_m'], \n",
    "        move_to_cpu=True,\n",
    "        compute_lhs=True\n",
    "    )\n",
    "    \n",
    "    attr_err_m = torch.abs(A_m.sum() - score_m).item()\n",
    "    del A_m\n",
    "    torch.cuda.empty_cache()\n",
    "    \n",
    "    A_f, tokens_a_f, tokens_b_f, score_f, ra_f, rb_f, rr_f = model.attribute_prediction(\n",
    "    row['Original'], \n",
    "    row['Paraphrases_f'], \n",
    "    move_to_cpu=True,\n",
    "    compute_lhs=True\n",
    "    )\n",
    "    \n",
    "    attr_err_f = torch.abs(A_f.sum() - score_f).item()\n",
    "    del A_f\n",
    "    torch.cuda.empty_cache()\n",
    "    \n",
    "    print(f\"Original: { row['Original']}\")\n",
    "    print(f\"Paraphrase_m: { row['Paraphrases_m']}\")\n",
    "    print(f\"Attribution score O-M: {score_m}\")\n",
    "    print(f\"Paraphrase_f: { row['Paraphrases_f']}\")\n",
    "    print(f\"Attribution score O-F: {score_f}\")\n",
    "    xbert_attr_values_m_f.append([score_m, score_f])\n",
    "    \n",
    "    print(f\"ra, rb, rr: {[ra_m, ra_f]}, {[rb_m, rb_f]}, {[rr_m, rr_f]}\")\n",
    "    print(f\"attr_error: {[attr_err_m, attr_err_f]}\")\n",
    "    ra.append([ra_m, ra_f])   \n",
    "    rb.append([rb_m, rb_f])   \n",
    "    rr.append([rr_m, rr_f])   \n",
    "    attr_err.append([attr_err_m, attr_err_f]) \n",
    "    "
   ]
  },
  {
   "cell_type": "code",
   "execution_count": 1,
   "id": "0343d499-4a20-4b3f-9426-ef54b4d57a9a",
   "metadata": {},
   "outputs": [
    {
     "ename": "NameError",
     "evalue": "name 'xbert_attr_values_m_f' is not defined",
     "output_type": "error",
     "traceback": [
      "\u001b[0;31m---------------------------------------------------------------------------\u001b[0m",
      "\u001b[0;31mNameError\u001b[0m                                 Traceback (most recent call last)",
      "Input \u001b[0;32mIn [1]\u001b[0m, in \u001b[0;36m<cell line: 1>\u001b[0;34m()\u001b[0m\n\u001b[0;32m----> 1\u001b[0m xbert_attr_values_m_f\n",
      "\u001b[0;31mNameError\u001b[0m: name 'xbert_attr_values_m_f' is not defined"
     ]
    }
   ],
   "source": [
    "xbert_attr_values_m_f"
   ]
  },
  {
   "cell_type": "code",
   "execution_count": null,
   "id": "2da7ce57-0b02-4e1e-a1f4-570d8e7b0fe1",
   "metadata": {},
   "outputs": [],
   "source": []
  },
  {
   "cell_type": "code",
   "execution_count": 32,
   "id": "f7277bca-d7ca-4c7e-b17c-01ccbdd46ec7",
   "metadata": {},
   "outputs": [],
   "source": [
    "# df_base_true['Paraphrases_m'].reset_index(drop=True)"
   ]
  },
  {
   "cell_type": "code",
   "execution_count": 31,
   "id": "c7d12deb-05f1-431c-81bf-64717a0830ed",
   "metadata": {},
   "outputs": [],
   "source": [
    "embeddings_m = get_embeddings(df_base_true['Paraphrases_m'].reset_index(drop=True))\n",
    "embeddings_f = get_embeddings(df_base_true['Paraphrases_f'].reset_index(drop=True))\n",
    "embeddings_o = get_embeddings(df_base_true['Original'].reset_index(drop=True))"
   ]
  },
  {
   "cell_type": "code",
   "execution_count": 19,
   "id": "94af221b-eda1-4d12-867c-6c73e7532d3e",
   "metadata": {},
   "outputs": [],
   "source": [
    "def cos(x, y):\n",
    "    return (x * y).sum(axis=1) / (np.linalg.norm(x, axis=1) * np.linalg.norm(y, axis=1))"
   ]
  },
  {
   "cell_type": "code",
   "execution_count": 33,
   "id": "9569e045-cce2-44c8-a7ec-5092f34a9330",
   "metadata": {},
   "outputs": [
    {
     "data": {
      "text/plain": [
       "array([0.8817897 , 0.9074464 , 0.7463951 , ..., 0.8295325 , 0.87327784,\n",
       "       0.8330411 ], dtype=float32)"
      ]
     },
     "execution_count": 33,
     "metadata": {},
     "output_type": "execute_result"
    }
   ],
   "source": [
    "sim_m_o = cos(embeddings_o, embeddings_m)\n",
    "sim_f_o = cos(embeddings_o, embeddings_f)\n",
    "sim_avg = (sim_m_o + sim_f_o)/2\n",
    "sim_avg"
   ]
  },
  {
   "cell_type": "code",
   "execution_count": 34,
   "id": "2973ffb1-d267-4646-bb28-45dff15a5748",
   "metadata": {},
   "outputs": [
    {
     "name": "stderr",
     "output_type": "stream",
     "text": [
      "/tmp/ipykernel_23146/2995370328.py:1: SettingWithCopyWarning: \n",
      "A value is trying to be set on a copy of a slice from a DataFrame.\n",
      "Try using .loc[row_indexer,col_indexer] = value instead\n",
      "\n",
      "See the caveats in the documentation: https://pandas.pydata.org/pandas-docs/stable/user_guide/indexing.html#returning-a-view-versus-a-copy\n",
      "  df_base_true[\"avg_sim (sentence stransformer)\"]=sim_avg\n"
     ]
    }
   ],
   "source": [
    "df_base_true[\"avg_sim (sentence stransformer)\"]=sim_avg"
   ]
  },
  {
   "cell_type": "code",
   "execution_count": 35,
   "id": "8bb737e2-a889-40fd-a7ae-7b33d0e2d330",
   "metadata": {},
   "outputs": [
    {
     "data": {
      "text/html": [
       "<div>\n",
       "<style scoped>\n",
       "    .dataframe tbody tr th:only-of-type {\n",
       "        vertical-align: middle;\n",
       "    }\n",
       "\n",
       "    .dataframe tbody tr th {\n",
       "        vertical-align: top;\n",
       "    }\n",
       "\n",
       "    .dataframe thead th {\n",
       "        text-align: right;\n",
       "    }\n",
       "</style>\n",
       "<table border=\"1\" class=\"dataframe\">\n",
       "  <thead>\n",
       "    <tr style=\"text-align: right;\">\n",
       "      <th></th>\n",
       "      <th>Original</th>\n",
       "      <th>Paraphrases_m</th>\n",
       "      <th>Paraphrases_f</th>\n",
       "      <th>choice_m</th>\n",
       "      <th>choice_f</th>\n",
       "      <th>choice_b</th>\n",
       "      <th>target</th>\n",
       "      <th>avg_sim (sentence stransformer)</th>\n",
       "    </tr>\n",
       "  </thead>\n",
       "  <tbody>\n",
       "    <tr>\n",
       "      <th>1</th>\n",
       "      <td>Sydney walked past a homeless woman asking fo...</td>\n",
       "      <td>Sydney strolled by a homeless woman pleading ...</td>\n",
       "      <td>Sydney walked past a homeless woman begging f...</td>\n",
       "      <td>0</td>\n",
       "      <td>0</td>\n",
       "      <td>0</td>\n",
       "      <td>0</td>\n",
       "      <td>0.881790</td>\n",
       "    </tr>\n",
       "    <tr>\n",
       "      <th>2</th>\n",
       "      <td>Sasha protected the patients' rights by makin...</td>\n",
       "      <td>Sasha safeguarded the patients' rights with a...</td>\n",
       "      <td>Sasha championed the cause of patients' right...</td>\n",
       "      <td>1</td>\n",
       "      <td>0</td>\n",
       "      <td>1</td>\n",
       "      <td>1</td>\n",
       "      <td>0.907446</td>\n",
       "    </tr>\n",
       "    <tr>\n",
       "      <th>3</th>\n",
       "      <td>Jordan was in charge of taking the food on th...</td>\n",
       "      <td>Jordan was responsible for packing the grocer...</td>\n",
       "      <td>As the trip organizer, Jordan failed to pack ...</td>\n",
       "      <td>0</td>\n",
       "      <td>0</td>\n",
       "      <td>0</td>\n",
       "      <td>0</td>\n",
       "      <td>0.746395</td>\n",
       "    </tr>\n",
       "    <tr>\n",
       "      <th>8</th>\n",
       "      <td>Riley layered down their arms with a blanket ...</td>\n",
       "      <td>Riley wrapped his arms with a blanket to stay...</td>\n",
       "      <td>Riley draped her arms with a soft blanket to ...</td>\n",
       "      <td>2</td>\n",
       "      <td>2</td>\n",
       "      <td>2</td>\n",
       "      <td>2</td>\n",
       "      <td>0.878957</td>\n",
       "    </tr>\n",
       "    <tr>\n",
       "      <th>10</th>\n",
       "      <td>Carson kissed Alex gently on the cheek and as...</td>\n",
       "      <td>Carson pecked Alex lightly on the cheek and i...</td>\n",
       "      <td>Carson softly kissed Alex on the cheek and as...</td>\n",
       "      <td>1</td>\n",
       "      <td>1</td>\n",
       "      <td>1</td>\n",
       "      <td>1</td>\n",
       "      <td>0.880850</td>\n",
       "    </tr>\n",
       "    <tr>\n",
       "      <th>...</th>\n",
       "      <td>...</td>\n",
       "      <td>...</td>\n",
       "      <td>...</td>\n",
       "      <td>...</td>\n",
       "      <td>...</td>\n",
       "      <td>...</td>\n",
       "      <td>...</td>\n",
       "      <td>...</td>\n",
       "    </tr>\n",
       "    <tr>\n",
       "      <th>1944</th>\n",
       "      <td>Kendall grabs Jordan's hands tightly. Kendall...</td>\n",
       "      <td>Kendall grasps Jordan's hands firmly, implori...</td>\n",
       "      <td>Kendall takes Jordan's hands gently, hoping t...</td>\n",
       "      <td>0</td>\n",
       "      <td>0</td>\n",
       "      <td>0</td>\n",
       "      <td>0</td>\n",
       "      <td>0.868245</td>\n",
       "    </tr>\n",
       "    <tr>\n",
       "      <th>1945</th>\n",
       "      <td>Austin was an intern and so he worked without...</td>\n",
       "      <td>Austin served as an intern and therefore he c...</td>\n",
       "      <td>As a dedicated intern, Austin fulfilled his r...</td>\n",
       "      <td>2</td>\n",
       "      <td>2</td>\n",
       "      <td>2</td>\n",
       "      <td>2</td>\n",
       "      <td>0.877634</td>\n",
       "    </tr>\n",
       "    <tr>\n",
       "      <th>1948</th>\n",
       "      <td>Kendall parallel parked so they could pass th...</td>\n",
       "      <td>Kendall expertly parallel parked to prove his...</td>\n",
       "      <td>Kendall carefully parallel parked to demonstr...</td>\n",
       "      <td>2</td>\n",
       "      <td>2</td>\n",
       "      <td>2</td>\n",
       "      <td>2</td>\n",
       "      <td>0.829533</td>\n",
       "    </tr>\n",
       "    <tr>\n",
       "      <th>1951</th>\n",
       "      <td>Kai improved Jan's picture and she loved how ...</td>\n",
       "      <td>Kai enhanced Jan's photo and he received high...</td>\n",
       "      <td>Kai beautifully edited Jan's picture and she ...</td>\n",
       "      <td>0</td>\n",
       "      <td>2</td>\n",
       "      <td>2</td>\n",
       "      <td>2</td>\n",
       "      <td>0.873278</td>\n",
       "    </tr>\n",
       "    <tr>\n",
       "      <th>1952</th>\n",
       "      <td>Tracy's kids wanted ice cream so Aubrey fed t...</td>\n",
       "      <td>Tracy's kiddos were jonesing for some ice cre...</td>\n",
       "      <td>Tracy's little ones were begging for ice crea...</td>\n",
       "      <td>1</td>\n",
       "      <td>1</td>\n",
       "      <td>1</td>\n",
       "      <td>1</td>\n",
       "      <td>0.833041</td>\n",
       "    </tr>\n",
       "  </tbody>\n",
       "</table>\n",
       "<p>1132 rows × 8 columns</p>\n",
       "</div>"
      ],
      "text/plain": [
       "                                               Original  \\\n",
       "1      Sydney walked past a homeless woman asking fo...   \n",
       "2      Sasha protected the patients' rights by makin...   \n",
       "3      Jordan was in charge of taking the food on th...   \n",
       "8      Riley layered down their arms with a blanket ...   \n",
       "10     Carson kissed Alex gently on the cheek and as...   \n",
       "...                                                 ...   \n",
       "1944   Kendall grabs Jordan's hands tightly. Kendall...   \n",
       "1945   Austin was an intern and so he worked without...   \n",
       "1948   Kendall parallel parked so they could pass th...   \n",
       "1951   Kai improved Jan's picture and she loved how ...   \n",
       "1952   Tracy's kids wanted ice cream so Aubrey fed t...   \n",
       "\n",
       "                                          Paraphrases_m  \\\n",
       "1      Sydney strolled by a homeless woman pleading ...   \n",
       "2      Sasha safeguarded the patients' rights with a...   \n",
       "3      Jordan was responsible for packing the grocer...   \n",
       "8      Riley wrapped his arms with a blanket to stay...   \n",
       "10     Carson pecked Alex lightly on the cheek and i...   \n",
       "...                                                 ...   \n",
       "1944   Kendall grasps Jordan's hands firmly, implori...   \n",
       "1945   Austin served as an intern and therefore he c...   \n",
       "1948   Kendall expertly parallel parked to prove his...   \n",
       "1951   Kai enhanced Jan's photo and he received high...   \n",
       "1952   Tracy's kiddos were jonesing for some ice cre...   \n",
       "\n",
       "                                          Paraphrases_f  choice_m  choice_f  \\\n",
       "1      Sydney walked past a homeless woman begging f...         0         0   \n",
       "2      Sasha championed the cause of patients' right...         1         0   \n",
       "3      As the trip organizer, Jordan failed to pack ...         0         0   \n",
       "8      Riley draped her arms with a soft blanket to ...         2         2   \n",
       "10     Carson softly kissed Alex on the cheek and as...         1         1   \n",
       "...                                                 ...       ...       ...   \n",
       "1944   Kendall takes Jordan's hands gently, hoping t...         0         0   \n",
       "1945   As a dedicated intern, Austin fulfilled his r...         2         2   \n",
       "1948   Kendall carefully parallel parked to demonstr...         2         2   \n",
       "1951   Kai beautifully edited Jan's picture and she ...         0         2   \n",
       "1952   Tracy's little ones were begging for ice crea...         1         1   \n",
       "\n",
       "      choice_b  target  avg_sim (sentence stransformer)  \n",
       "1            0       0                         0.881790  \n",
       "2            1       1                         0.907446  \n",
       "3            0       0                         0.746395  \n",
       "8            2       2                         0.878957  \n",
       "10           1       1                         0.880850  \n",
       "...        ...     ...                              ...  \n",
       "1944         0       0                         0.868245  \n",
       "1945         2       2                         0.877634  \n",
       "1948         2       2                         0.829533  \n",
       "1951         2       2                         0.873278  \n",
       "1952         1       1                         0.833041  \n",
       "\n",
       "[1132 rows x 8 columns]"
      ]
     },
     "execution_count": 35,
     "metadata": {},
     "output_type": "execute_result"
    }
   ],
   "source": [
    "df_base_true"
   ]
  },
  {
   "cell_type": "code",
   "execution_count": 59,
   "id": "0398a865-a08a-4c04-a4e4-eb2d2e935696",
   "metadata": {},
   "outputs": [],
   "source": [
    "df_base_true[(df_base_true['choice_m']==df_base_true['choice_b']) & (df_base_true['choice_f']==df_base_true['choice_b'])]['avg_sim (sentence stransformer)'].mean()\n",
    "\n",
    "# only male\n",
    "# df_base_true[df_base_true['choice_m']==df_base_true['choice_b']]['avg_sim (sentence stransformer)'].mean()"
   ]
  },
  {
   "cell_type": "code",
   "execution_count": 60,
   "id": "222ce00e-6772-4aca-84bd-c9d677ed9622",
   "metadata": {},
   "outputs": [],
   "source": [
    "df_base_true[(df_base_true['choice_m']!=df_base_true['choice_b']) & (df_base_true['choice_f']!=df_base_true['choice_b'])]['avg_sim (sentence stransformer)'].mean()\n",
    "\n",
    "#only male\n",
    "# df_base_true[df_base_true['choice_m']!=df_base_true['choice_b']]['avg_sim (sentence stransformer)'].mean()"
   ]
  },
  {
   "cell_type": "code",
   "execution_count": 54,
   "id": "a2eaf19b-0474-42ee-a035-38f2a4bfeb9f",
   "metadata": {},
   "outputs": [
    {
     "name": "stderr",
     "output_type": "stream",
     "text": [
      "/tmp/ipykernel_23146/490696675.py:5: FutureWarning: \n",
      "\n",
      "Passing `palette` without assigning `hue` is deprecated and will be removed in v0.14.0. Assign the `x` variable to `hue` and set `legend=False` for the same effect.\n",
      "\n",
      "  sns.barplot(x='Baseline=M&F', y='Semantic simlarity (Avg)', data=df,  palette='viridis')\n"
     ]
    },
    {
     "data": {
      "image/png": "[encoded data removed]",
      "text/plain": [
       "<Figure size 800x600 with 1 Axes>"
      ]
     },
     "metadata": {},
     "output_type": "display_data"
    }
   ],
   "source": [
    "df = pd.DataFrame(data = {'Baseline=M&F': ['True', 'False'], 'Semantic simlarity (Avg)': [0.85351604, 0.82789326]})\n",
    "\n",
    "# Use Seaborn to create a bar plot\n",
    "plt.figure(figsize=(8, 6))\n",
    "sns.barplot(x='Baseline=M&F', y='Semantic simlarity (Avg)', data=df,  palette='viridis')\n",
    "\n",
    "plt.ylim(0.8, 0.9)\n",
    "\n",
    "# Set plot labels and title\n",
    "plt.xlabel('Choice Baseline == M&F Paraphrase set')\n",
    "plt.ylabel('Average sim Value')\n",
    "plt.title('Semantic sim of M/F-Original paraphrases in correct vs misclassified pairs')\n",
    "\n",
    "# Show the plot\n",
    "plt.show()"
   ]
  },
  {
   "cell_type": "code",
   "execution_count": null,
   "id": "9e2a8e3a-2b6b-4006-b3b5-f7a711107281",
   "metadata": {},
   "outputs": [],
   "source": []
  },
  {
   "cell_type": "code",
   "execution_count": 96,
   "id": "fbe7342c-52f2-498a-9ab0-2e259d2e9f1a",
   "metadata": {},
   "outputs": [],
   "source": [
    "labels_m = df_base_true['choice_b']==df_base_true['choice_m'] \n",
    "labels_f = df_base_true['choice_b']==df_base_true['choice_f']"
   ]
  },
  {
   "cell_type": "code",
   "execution_count": 98,
   "id": "001b8f77-3a1a-4142-ac82-671a05e8bbd4",
   "metadata": {},
   "outputs": [],
   "source": [
    "labels_m = labels_m.reset_index(drop=True)\n",
    "labels_f = labels_f.reset_index(drop=True)"
   ]
  },
  {
   "cell_type": "code",
   "execution_count": null,
   "id": "8d56c2a3-f62f-4dbc-a175-0b0f4de146a5",
   "metadata": {},
   "outputs": [],
   "source": [
    "## MALE clustering\n",
    "from sklearn.decomposition import PCA\n",
    "norm_embeddings = embeddings_o\n",
    "norm_embeddings = norm_embeddings\n",
    "\n",
    "pca = PCA(n_components=9)\n",
    "embeddings_5d = pca.fit_transform(norm_embeddings)\n",
    "\n",
    "# Create a DataFrame for 5D visualization\n",
    "df_5d = pd.DataFrame({'Dim1': embeddings_5d[:, 0], 'Dim2': embeddings_5d[:, 1], 'Dim3': embeddings_5d[:, 2],\n",
    "                      'Dim4': embeddings_5d[:, 3], 'Dim5': embeddings_5d[:, 4], 'Label': labels_m,\n",
    "                     'Dim6': embeddings_5d[:, 5],\n",
    "                     'Dim7': embeddings_5d[:, 6],\n",
    "                     'Dim8': embeddings_5d[:, 7],\n",
    "                     'Dim9': embeddings_5d[:, 8]})\n",
    "\n",
    "# Plot pairs of dimensions using a grid plot\n",
    "sns.set(style=\"ticks\")\n",
    "sns.set_palette(\"pastel\")\n",
    "\n",
    "# Create a pairplot\n",
    "g = sns.PairGrid(df_5d, hue='Label', vars=['Dim1', 'Dim2', 'Dim3', 'Dim4', 'Dim5', 'Dim6', 'Dim7', 'Dim8', 'Dim9'])\n",
    "g.map_upper(sns.scatterplot)\n",
    "g.map_lower(sns.kdeplot, fill=True)\n",
    "g.map_diag(sns.histplot, kde_kws={'color': 'k'})\n",
    "g.add_legend()\n",
    "\n",
    "plt.suptitle('Pairplot of Top 5 PCA Dimensions', y=1.02)\n",
    "plt.show()"
   ]
  },
  {
   "cell_type": "code",
   "execution_count": null,
   "id": "5fb9479e-a3e1-449a-b8fc-a927ea1dfd92",
   "metadata": {},
   "outputs": [],
   "source": [
    "## FEMALE clustering\n",
    "from sklearn.decomposition import PCA\n",
    "norm_embeddings = embeddings_f\n",
    "# -embeddings_o\n",
    "norm_embeddings = norm_embeddings\n",
    "\n",
    "pca = PCA(n_components=9)\n",
    "embeddings_5d = pca.fit_transform(norm_embeddings)\n",
    "\n",
    "# Create a DataFrame for 5D visualization\n",
    "df_5d = pd.DataFrame({'Dim1': embeddings_5d[:, 0], 'Dim2': embeddings_5d[:, 1], 'Dim3': embeddings_5d[:, 2],\n",
    "                      'Dim4': embeddings_5d[:, 3], 'Dim5': embeddings_5d[:, 4], 'Label': labels_f,\n",
    "                     'Dim6': embeddings_5d[:, 5],\n",
    "                     'Dim7': embeddings_5d[:, 6],\n",
    "                     'Dim8': embeddings_5d[:, 7],\n",
    "                     'Dim9': embeddings_5d[:, 8]})\n",
    "\n",
    "# Plot pairs of dimensions using a grid plot\n",
    "sns.set(style=\"ticks\")\n",
    "sns.set_palette(\"pastel\")\n",
    "\n",
    "# Create a pairplot\n",
    "g = sns.PairGrid(df_5d, hue='Label', vars=['Dim1', 'Dim2', 'Dim3', 'Dim4', 'Dim5', 'Dim6', 'Dim7', 'Dim8', 'Dim9'])\n",
    "g.map_upper(sns.scatterplot)\n",
    "g.map_lower(sns.kdeplot, fill=True)\n",
    "g.map_diag(sns.histplot, kde_kws={'color': 'k'})\n",
    "g.add_legend()\n",
    "\n",
    "plt.suptitle('Pairplot of Top 5 PCA Dimensions', y=1.02)\n",
    "plt.show()"
   ]
  },
  {
   "cell_type": "code",
   "execution_count": null,
   "id": "7a1803e3-290c-42ab-8a1a-d3c4148e485a",
   "metadata": {},
   "outputs": [],
   "source": []
  },
  {
   "cell_type": "code",
   "execution_count": 8,
   "id": "b44b1bc5-2950-47be-aa29-0c405aa38b11",
   "metadata": {},
   "outputs": [],
   "source": [
    "# cluster_embeddings = embeddings_f-embeddings_m"
   ]
  },
  {
   "cell_type": "code",
   "execution_count": 9,
   "id": "2c495674-c71b-424b-91ba-f233ed1c361d",
   "metadata": {},
   "outputs": [
    {
     "data": {
      "text/plain": [
       "array([[-8.58051851e-02, -4.71852094e-01,  1.72173902e-01, ...,\n",
       "         2.39584178e-01, -5.40622920e-02,  9.22283530e-03],\n",
       "       [ 3.95254433e-01,  1.99283600e-01, -1.28825366e-01, ...,\n",
       "        -3.92782688e-03,  1.57786384e-01, -1.22730106e-01],\n",
       "       [ 1.08090937e-01,  2.29758739e-01, -9.82038751e-02, ...,\n",
       "        -2.70923406e-01, -1.26974687e-01, -2.36667097e-02],\n",
       "       ...,\n",
       "       [-9.87960398e-03, -6.76117539e-02, -9.34011936e-02, ...,\n",
       "        -1.32897645e-01,  5.31192422e-02,  1.55512318e-01],\n",
       "       [-2.52401084e-01,  2.40686685e-01,  3.48098837e-02, ...,\n",
       "         2.01027304e-01, -2.51903296e-01, -2.60092318e-04],\n",
       "       [ 3.16758424e-01, -1.04075596e-01, -1.97242778e-02, ...,\n",
       "        -1.25989944e-01,  3.02430689e-01,  7.50916824e-02]], dtype=float32)"
      ]
     },
     "execution_count": 9,
     "metadata": {},
     "output_type": "execute_result"
    }
   ],
   "source": [
    "# cluster_embeddings_abs = cluster_embeddings\n",
    "# cluster_embeddings_abs"
   ]
  },
  {
   "cell_type": "code",
   "execution_count": null,
   "id": "071a19d2-c7b4-46a2-97a3-de258ae3235d",
   "metadata": {},
   "outputs": [],
   "source": []
  },
  {
   "cell_type": "code",
   "execution_count": null,
   "id": "d24d96aa-fbb3-410f-8ddf-c19edeb1d1fa",
   "metadata": {},
   "outputs": [],
   "source": []
  },
  {
   "cell_type": "code",
   "execution_count": 86,
   "id": "5ef31f15-0478-44a6-a81f-34c8e73b9de1",
   "metadata": {},
   "outputs": [],
   "source": [
    "# !pip install bert_score\n",
    "\n",
    "from transformers import AutoTokenizer, AutoModel\n",
    "model_name = \"facebook/bart-large-cnn\"\n",
    "tokenizer = AutoTokenizer.from_pretrained(model_name)\n",
    "model = AutoModel.from_pretrained(model_name)\n",
    "\n",
    "# Function to obtain embeddings for sentences using the model\n",
    "def get_embeddings(sentences):\n",
    "    inputs = tokenizer(sentences, return_tensors=\"pt\", padding=True, truncation=True)\n",
    "    with torch.no_grad():\n",
    "        outputs = model(**inputs)\n",
    "    embeddings = outputs.last_hidden_state.mean(dim=1)  # Average pooling over tokens\n",
    "    return embeddings.numpy()"
   ]
  },
  {
   "cell_type": "code",
   "execution_count": 88,
   "id": "73e4ed4f-ce6a-4bc4-9bda-02d527d11b39",
   "metadata": {},
   "outputs": [
    {
     "name": "stdout",
     "output_type": "stream",
     "text": [
      "[[ 0.1671398  -0.22119364 -0.43359107 ... -0.00784593  0.18461818\n",
      "   0.5269268 ]]\n"
     ]
    },
    {
     "name": "stderr",
     "output_type": "stream",
     "text": [
      "Some weights of RobertaModel were not initialized from the model checkpoint at roberta-large and are newly initialized: ['roberta.pooler.dense.weight', 'roberta.pooler.dense.bias']\n",
      "You should probably TRAIN this model on a down-stream task to be able to use it for predictions and inference.\n"
     ]
    },
    {
     "name": "stdout",
     "output_type": "stream",
     "text": [
      "BERTScore Similarity: 0.9151100516319275\n"
     ]
    }
   ],
   "source": [
    "from bert_score import score\n",
    "import torch\n",
    "\n",
    "# Function to calculate BERTScore similarity between two lists of sentences\n",
    "def calculate_bertscore_similarity(sentences1, sentences2):\n",
    "    # Obtain embeddings for each set of sentences\n",
    "    embeddings1 = get_embeddings(sentences1)\n",
    "    embeddings2 = get_embeddings(sentences2)\n",
    "    \n",
    "    print(embeddings1)\n",
    "\n",
    "    # Convert embeddings to lists of strings\n",
    "    embeddings1_str = [str(embedding) for embedding in embeddings1]\n",
    "    embeddings2_str = [str(embedding) for embedding in embeddings2]\n",
    "\n",
    "    # Calculate BERTScore similarity\n",
    "    precision, recall, f1 = score(embeddings1_str, embeddings2_str, lang='en')\n",
    "\n",
    "    # Return the F1 score as the similarity measure\n",
    "    return f1.mean().item()\n",
    "\n",
    "# Example usage:\n",
    "sentences_list1 = \"This is a sample sentence.\"\n",
    "sentences_list2 = \"This is another sample sentence\"\n",
    "\n",
    "similarity_score = calculate_bertscore_similarity(sentences_list1, sentences_list2)\n",
    "print(\"BERTScore Similarity:\", similarity_score)"
   ]
  },
  {
   "cell_type": "code",
   "execution_count": 81,
   "id": "13dbfe49-7c6c-4f24-b93c-f8960a115d29",
   "metadata": {},
   "outputs": [],
   "source": [
    "# df_base_true"
   ]
  },
  {
   "cell_type": "code",
   "execution_count": null,
   "id": "ee9204b5-160a-4467-ba13-803670acc5a6",
   "metadata": {},
   "outputs": [],
   "source": []
  },
  {
   "cell_type": "code",
   "execution_count": null,
   "id": "532aab03-8e94-46bf-a33f-2adc3ed1a03c",
   "metadata": {},
   "outputs": [
    {
     "name": "stdout",
     "output_type": "stream",
     "text": [
      "[[-0.0850744   0.06647862 -0.25399616 ... -0.0227569  -0.00548953\n",
      "  -0.04621651]]\n"
     ]
    },
    {
     "name": "stderr",
     "output_type": "stream",
     "text": [
      "Some weights of RobertaModel were not initialized from the model checkpoint at roberta-large and are newly initialized: ['roberta.pooler.dense.weight', 'roberta.pooler.dense.bias']\n",
      "You should probably TRAIN this model on a down-stream task to be able to use it for predictions and inference.\n"
     ]
    },
    {
     "name": "stdout",
     "output_type": "stream",
     "text": [
      "[[-0.26954985  0.32069486 -0.29582712 ... -0.06550589  0.22545224\n",
      "  -0.02228073]]\n"
     ]
    },
    {
     "name": "stderr",
     "output_type": "stream",
     "text": [
      "Some weights of RobertaModel were not initialized from the model checkpoint at roberta-large and are newly initialized: ['roberta.pooler.dense.weight', 'roberta.pooler.dense.bias']\n",
      "You should probably TRAIN this model on a down-stream task to be able to use it for predictions and inference.\n"
     ]
    },
    {
     "name": "stdout",
     "output_type": "stream",
     "text": [
      "[[-0.07518235  0.05748795 -0.07472556 ...  0.13331528  0.1340347\n",
      "  -0.15712048]]\n"
     ]
    },
    {
     "name": "stderr",
     "output_type": "stream",
     "text": [
      "Some weights of RobertaModel were not initialized from the model checkpoint at roberta-large and are newly initialized: ['roberta.pooler.dense.weight', 'roberta.pooler.dense.bias']\n",
      "You should probably TRAIN this model on a down-stream task to be able to use it for predictions and inference.\n"
     ]
    },
    {
     "name": "stdout",
     "output_type": "stream",
     "text": [
      "[[-0.13449322  0.14116915 -0.09368223 ... -0.03969105  0.05311158\n",
      "   0.05057715]]\n"
     ]
    },
    {
     "name": "stderr",
     "output_type": "stream",
     "text": [
      "Some weights of RobertaModel were not initialized from the model checkpoint at roberta-large and are newly initialized: ['roberta.pooler.dense.weight', 'roberta.pooler.dense.bias']\n",
      "You should probably TRAIN this model on a down-stream task to be able to use it for predictions and inference.\n"
     ]
    },
    {
     "name": "stdout",
     "output_type": "stream",
     "text": [
      "[[ 0.10578267 -0.06921225  0.07939508 ...  0.07508714  0.14303187\n",
      "  -0.05709941]]\n"
     ]
    },
    {
     "name": "stderr",
     "output_type": "stream",
     "text": [
      "Some weights of RobertaModel were not initialized from the model checkpoint at roberta-large and are newly initialized: ['roberta.pooler.dense.weight', 'roberta.pooler.dense.bias']\n",
      "You should probably TRAIN this model on a down-stream task to be able to use it for predictions and inference.\n"
     ]
    },
    {
     "name": "stdout",
     "output_type": "stream",
     "text": [
      "[[-0.08405094  0.26776695 -0.31052223 ... -0.00345304  0.04227834\n",
      "  -0.1000189 ]]\n"
     ]
    }
   ],
   "source": [
    "sim_m_o = np.array([calculate_bertscore_similarity(x, y) for x, y in zip(df_base_true['Paraphrases_m'], df_base_true['Original'])])\n",
    "sim_f_o = np.array([calculate_bertscore_similarity(x, y) for x, y in zip(df_base_true['Paraphrases_f'], df_base_true['Original'])])\n",
    "sim_avg = (sim_m_o + sim_f_o)/2\n",
    "sim_avg"
   ]
  },
  {
   "cell_type": "code",
   "execution_count": 92,
   "id": "96f22a36-55e6-4a9d-b534-38cfd8b439e5",
   "metadata": {},
   "outputs": [
    {
     "data": {
      "text/plain": [
       "array([0.92336434, 0.93202782, 0.92805174, ..., 0.92365554, 0.92521483,\n",
       "       0.9229019 ])"
      ]
     },
     "execution_count": 92,
     "metadata": {},
     "output_type": "execute_result"
    }
   ],
   "source": [
    "sim_avg"
   ]
  },
  {
   "cell_type": "code",
   "execution_count": 93,
   "id": "c411b0fe-eefa-4fa0-b916-606bc51d7ffb",
   "metadata": {},
   "outputs": [
    {
     "name": "stderr",
     "output_type": "stream",
     "text": [
      "/tmp/ipykernel_23146/1193669145.py:1: SettingWithCopyWarning: \n",
      "A value is trying to be set on a copy of a slice from a DataFrame.\n",
      "Try using .loc[row_indexer,col_indexer] = value instead\n",
      "\n",
      "See the caveats in the documentation: https://pandas.pydata.org/pandas-docs/stable/user_guide/indexing.html#returning-a-view-versus-a-copy\n",
      "  df_base_true[\"avg_sim (BertScore)\"]=sim_avg\n"
     ]
    }
   ],
   "source": [
    "df_base_true[\"avg_sim (BertScore)\"]=sim_avg"
   ]
  },
  {
   "cell_type": "code",
   "execution_count": 94,
   "id": "4554970d-df9c-49d1-b9df-14650d53ba3e",
   "metadata": {},
   "outputs": [
    {
     "data": {
      "text/plain": [
       "0.923218560339904"
      ]
     },
     "execution_count": 94,
     "metadata": {},
     "output_type": "execute_result"
    }
   ],
   "source": [
    "df_base_true[(df_base_true['choice_m']==df_base_true['choice_b']) & (df_base_true['choice_f']==df_base_true['choice_b'])]['avg_sim (BertScore)'].mean()"
   ]
  },
  {
   "cell_type": "code",
   "execution_count": 95,
   "id": "afd53c55-68a4-4928-80b2-5e35fe494da1",
   "metadata": {},
   "outputs": [
    {
     "data": {
      "text/plain": [
       "0.923385782374276"
      ]
     },
     "execution_count": 95,
     "metadata": {},
     "output_type": "execute_result"
    }
   ],
   "source": [
    "df_base_true[(df_base_true['choice_m']!=df_base_true['choice_b']) & (df_base_true['choice_f']!=df_base_true['choice_b'])]['avg_sim (BertScore)'].mean()"
   ]
  },
  {
   "cell_type": "code",
   "execution_count": null,
   "id": "2f43e9e7-515e-44c1-b428-b39f42629da8",
   "metadata": {},
   "outputs": [],
   "source": []
  }
 ],
 "metadata": {
  "kernelspec": {
   "display_name": "Python 3 (ipykernel)",
   "language": "python",
   "name": "python3"
  },
  "language_info": {
   "codemirror_mode": {
    "name": "ipython",
    "version": 3
   },
   "file_extension": ".py",
   "mimetype": "text/x-python",
   "name": "python",
   "nbconvert_exporter": "python",
   "pygments_lexer": "ipython3",
   "version": "3.8.13"
  }
 },
 "nbformat": 4,
 "nbformat_minor": 5
}
