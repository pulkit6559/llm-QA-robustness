{
 "cells": [
  {
   "cell_type": "code",
   "execution_count": 1,
   "metadata": {},
   "outputs": [
    {
     "data": {
      "text/plain": [
       "(   Unnamed: 0                                           Original  \\\n",
       " 0           0   Tracy didn't go home that evening and resiste...   \n",
       " 1           1   Sydney walked past a homeless woman asking fo...   \n",
       " 2           2   Sasha protected the patients' rights by makin...   \n",
       " 3           3   Jordan was in charge of taking the food on th...   \n",
       " 4           4   Kendall opened their mouth to speak and what ...   \n",
       " \n",
       "                                        Paraphrases_y  \\\n",
       " 0   Tracy totally ignored Riley's attempts to tal...   \n",
       " 1   Sydney breezed by a homeless chick begging fo...   \n",
       " 2   Sasha was all about protecting cancer patient...   \n",
       " 3   OMG, can you believe Jordan totally forgot to...   \n",
       " 4   Kendall dropped some serious knowledge that l...   \n",
       " \n",
       "                                        Paraphrases_m  \\\n",
       " 0   Tracy refused to go home and resisted Riley's...   \n",
       " 1   Sydney walked past a homeless woman asking fo...   \n",
       " 2   Sasha made sure that cancer patients were wel...   \n",
       " 3   It seems that Jordan was responsible for brin...   \n",
       " 4   Kendall spoke up with some unexpected insight...   \n",
       " \n",
       "                                        Paraphrases_o  choice_y  choice_m  \\\n",
       " 0   Tracy decided not to return home that evening...         2         2   \n",
       " 1   Sydney strolled by a destitute woman requesti...         0         0   \n",
       " 2   Sasha took a firm stance on patient rights by...         0         1   \n",
       " 3   My goodness gracious, it appears that Jordan ...         0         0   \n",
       " 4   Kendall uttered some remarkable statements th...         2         0   \n",
       " \n",
       "    choice_o  choice_b  target  sim_Young  sim_Middle   sim_Old  \\\n",
       " 0         2         0       2   0.840481    0.845546  0.847595   \n",
       " 1         0         0       0   0.813012    0.931906  0.843912   \n",
       " 2         1         1       1   0.918242    0.862996  0.870341   \n",
       " 3         1         0       0   0.661317    0.813097  0.665991   \n",
       " 4         2         0       2   0.814288    0.861694  0.865671   \n",
       " \n",
       "    perplexity_young  perplexity_middle  perplexity_old  perplexity_baseline  \n",
       " 0         73.113235          66.351723       68.734932            86.313080  \n",
       " 1         77.351578          31.318338       44.991386            43.134083  \n",
       " 2         70.314484          90.249260       79.581413           134.164154  \n",
       " 3         34.882397          37.963200       62.427773            48.878517  \n",
       " 4        109.154083          69.948303       75.931786            57.255871  ,\n",
       " Index(['Unnamed: 0', 'Original', 'Paraphrases_y', 'Paraphrases_m',\n",
       "        'Paraphrases_o', 'choice_y', 'choice_m', 'choice_o', 'choice_b',\n",
       "        'target', 'sim_Young', 'sim_Middle', 'sim_Old', 'perplexity_young',\n",
       "        'perplexity_middle', 'perplexity_old', 'perplexity_baseline'],\n",
       "       dtype='object'),\n",
       "    Unnamed: 0                                           Original  \\\n",
       " 0           0   Tracy didn't go home that evening and resiste...   \n",
       " 1           1   Sydney walked past a homeless woman asking fo...   \n",
       " 2           2   Sasha protected the patients' rights by makin...   \n",
       " 3           3   Jordan was in charge of taking the food on th...   \n",
       " 4           4   Kendall opened their mouth to speak and what ...   \n",
       " \n",
       "                                        Paraphrases_m  \\\n",
       " 0   Tracy skipped home that evening and fended of...   \n",
       " 1   Sydney strolled by a homeless woman pleading ...   \n",
       " 2   Sasha safeguarded the patients' rights with a...   \n",
       " 3   Jordan was responsible for packing the grocer...   \n",
       " 4   Kendall opened their mouth to speak, and what...   \n",
       " \n",
       "                                        Paraphrases_f  \\\n",
       " 0   Tracy stayed out that night and deflected Ril...   \n",
       " 1   Sydney walked past a homeless woman begging f...   \n",
       " 2   Sasha championed the cause of patients' right...   \n",
       " 3   As the trip organizer, Jordan failed to pack ...   \n",
       " 4   Kendall spoke up, and the words that came out...   \n",
       " \n",
       "                                      Paraphrases_amb  choice_m  choice_f  \\\n",
       " 0   Tracy opted not to go home that evening, evad...         2         2   \n",
       " 1   Sydney passed by a destitute woman seeking ha...         0         0   \n",
       " 2   Sasha ensured patient protections were upheld...         1         0   \n",
       " 3   The person in charge of provisioning the camp...         0         0   \n",
       " 4   Kendall's statement caused a stir among the l...         0         0   \n",
       " \n",
       "    choice_amb  choice_b  target  sim_Male  sim_Female   sim_Amb  \\\n",
       " 0           2         0       2  0.843010    0.847613  0.881077   \n",
       " 1           0         0       0  0.863400    0.900179  0.791698   \n",
       " 2           0         1       1  0.911651    0.903241  0.864807   \n",
       " 3           0         0       0  0.781034    0.711756  0.894416   \n",
       " 4           2         0       2  0.969874    0.924467  0.773631   \n",
       " \n",
       "    perplexity_male  perplexity_female  perplexity_ambiguous  \\\n",
       " 0       156.838226         242.536057            152.222382   \n",
       " 1        43.822601          26.441879             53.210236   \n",
       " 2       165.344132          67.268661            384.464661   \n",
       " 3        40.317810          58.414104             73.189659   \n",
       " 4        60.391144          33.772938             28.202099   \n",
       " \n",
       "    perplexity_baseline  \n",
       " 0            86.313080  \n",
       " 1            43.134083  \n",
       " 2           134.164154  \n",
       " 3            48.878517  \n",
       " 4            57.255871  ,\n",
       " Index(['Unnamed: 0', 'Original', 'Paraphrases_m', 'Paraphrases_f',\n",
       "        'Paraphrases_amb', 'choice_m', 'choice_f', 'choice_amb', 'choice_b',\n",
       "        'target', 'sim_Male', 'sim_Female', 'sim_Amb', 'perplexity_male',\n",
       "        'perplexity_female', 'perplexity_ambiguous', 'perplexity_baseline'],\n",
       "       dtype='object'))"
      ]
     },
     "execution_count": 1,
     "metadata": {},
     "output_type": "execute_result"
    }
   ],
   "source": [
    "import pandas as pd\n",
    "\n",
    "# Load the data from the provided files\n",
    "file_path_1 = 'updated_Y_M_O_par_similarity.csv'\n",
    "file_path_2 = 'updated_M_F_A_par_similarity.csv'\n",
    "\n",
    "# Read the files\n",
    "data_y_m_o = pd.read_csv(file_path_1)\n",
    "data_m_f_a = pd.read_csv(file_path_2)\n",
    "\n",
    "# Display the first few rows of each dataset to understand their structure\n",
    "(data_y_m_o.head(), data_y_m_o.columns, data_m_f_a.head(), data_m_f_a.columns)\n"
   ]
  },
  {
   "cell_type": "code",
   "execution_count": 2,
   "metadata": {},
   "outputs": [
    {
     "name": "stdout",
     "output_type": "stream",
     "text": [
      "Collecting language_tool_python"
     ]
    },
    {
     "name": "stderr",
     "output_type": "stream",
     "text": [
      "\n",
      "[notice] A new release of pip is available: 23.3.2 -> 24.0\n",
      "[notice] To update, run: python.exe -m pip install --upgrade pip\n"
     ]
    },
    {
     "name": "stdout",
     "output_type": "stream",
     "text": [
      "\n",
      "  Downloading language_tool_python-2.8-py3-none-any.whl.metadata (12 kB)\n",
      "Requirement already satisfied: pip in c:\\users\\arora\\anaconda3\\lib\\site-packages (from language_tool_python) (23.3.2)\n",
      "Requirement already satisfied: requests in c:\\users\\arora\\anaconda3\\lib\\site-packages (from language_tool_python) (2.27.1)\n",
      "Requirement already satisfied: tqdm in c:\\users\\arora\\anaconda3\\lib\\site-packages (from language_tool_python) (4.64.0)\n",
      "Requirement already satisfied: wheel in c:\\users\\arora\\anaconda3\\lib\\site-packages (from language_tool_python) (0.37.1)\n",
      "Requirement already satisfied: urllib3<1.27,>=1.21.1 in c:\\users\\arora\\anaconda3\\lib\\site-packages (from requests->language_tool_python) (1.26.9)\n",
      "Requirement already satisfied: certifi>=2017.4.17 in c:\\users\\arora\\anaconda3\\lib\\site-packages (from requests->language_tool_python) (2020.12.5)\n",
      "Requirement already satisfied: charset-normalizer~=2.0.0 in c:\\users\\arora\\anaconda3\\lib\\site-packages (from requests->language_tool_python) (2.0.12)\n",
      "Requirement already satisfied: idna<4,>=2.5 in c:\\users\\arora\\anaconda3\\lib\\site-packages (from requests->language_tool_python) (3.3)\n",
      "Requirement already satisfied: colorama in c:\\users\\arora\\anaconda3\\lib\\site-packages (from tqdm->language_tool_python) (0.4.6)\n",
      "Downloading language_tool_python-2.8-py3-none-any.whl (35 kB)\n",
      "Installing collected packages: language_tool_python\n",
      "Successfully installed language_tool_python-2.8\n"
     ]
    }
   ],
   "source": [
    "!pip install language_tool_python"
   ]
  },
  {
   "cell_type": "code",
   "execution_count": 4,
   "metadata": {},
   "outputs": [
    {
     "data": {
      "text/plain": [
       "({'Paraphrases_y': 0.45752302968270214,\n",
       "  'Paraphrases_m': 0.30348004094165815,\n",
       "  'Paraphrases_o': 0.3239508700102354},\n",
       " {'Paraphrases_m': 0.16734902763561924,\n",
       "  'Paraphrases_f': 0.17246673490276357,\n",
       "  'Paraphrases_amb': 0.15301944728761516})"
      ]
     },
     "execution_count": 4,
     "metadata": {},
     "output_type": "execute_result"
    }
   ],
   "source": [
    "import language_tool_python\n",
    "import numpy as np\n",
    "\n",
    "# Initialize the language tool\n",
    "tool = language_tool_python.LanguageTool('en-US')\n",
    "\n",
    "# Function to calculate grammar scores\n",
    "def calculate_grammar_scores(data, paraphrase_columns):\n",
    "    grammar_scores = {col: [] for col in paraphrase_columns}\n",
    "    for col in paraphrase_columns:\n",
    "        for text in data[col]:\n",
    "            matches = tool.check(text)\n",
    "            grammar_scores[col].append(len(matches))\n",
    "    return grammar_scores\n",
    "\n",
    "# Calculate grammar scores for each dataset\n",
    "grammar_scores_y_m_o = calculate_grammar_scores(data_y_m_o, ['Paraphrases_y', 'Paraphrases_m', 'Paraphrases_o'])\n",
    "grammar_scores_m_f_a = calculate_grammar_scores(data_m_f_a, ['Paraphrases_m', 'Paraphrases_f', 'Paraphrases_amb'])\n",
    "\n",
    "# Function to compute average grammar scores\n",
    "def average_grammar_scores(grammar_scores):\n",
    "    avg_grammar_scores = {}\n",
    "    for key in grammar_scores.keys():\n",
    "        avg_grammar_scores[key] = np.mean(grammar_scores[key])\n",
    "    return avg_grammar_scores\n",
    "\n",
    "# Get average grammar scores\n",
    "avg_grammar_scores_y_m_o = average_grammar_scores(grammar_scores_y_m_o)\n",
    "avg_grammar_scores_m_f_a = average_grammar_scores(grammar_scores_m_f_a)\n",
    "\n",
    "(avg_grammar_scores_y_m_o, avg_grammar_scores_m_f_a)\n"
   ]
  },
  {
   "cell_type": "code",
   "execution_count": null,
   "metadata": {},
   "outputs": [],
   "source": []
  }
 ],
 "metadata": {
  "kernelspec": {
   "display_name": "base",
   "language": "python",
   "name": "python3"
  },
  "language_info": {
   "codemirror_mode": {
    "name": "ipython",
    "version": 3
   },
   "file_extension": ".py",
   "mimetype": "text/x-python",
   "name": "python",
   "nbconvert_exporter": "python",
   "pygments_lexer": "ipython3",
   "version": "3.9.12"
  }
 },
 "nbformat": 4,
 "nbformat_minor": 2
}
