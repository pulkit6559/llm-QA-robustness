{
 "cells": [
  {
   "cell_type": "code",
   "execution_count": null,
   "id": "d63941cf-a990-4ef5-a907-9fd4867ac6d2",
   "metadata": {},
   "outputs": [],
   "source": [
    "import pandas as pd\n",
    "import load_data\n",
    "import importlib\n",
    "import json\n",
    "import math\n",
    "\n",
    "import llama_cpp\n",
    "from llama_cpp import Llama\n",
    "\n",
    "# empty gpu\n",
    "import gc\n",
    "import torch\n",
    "import os"
   ]
  },
  {
   "cell_type": "code",
   "execution_count": null,
   "id": "b5513404-19ae-4fe5-b050-e78d8494656b",
   "metadata": {},
   "outputs": [],
   "source": [
    "questions, context = load_data.get_siqa_data()"
   ]
  },
  {
   "cell_type": "code",
   "execution_count": 4,
   "id": "c29a34a2-676b-4369-8d8f-c5893d0b67bc",
   "metadata": {},
   "outputs": [
    {
     "data": {
      "text/plain": [
       "0"
      ]
     },
     "execution_count": 4,
     "metadata": {},
     "output_type": "execute_result"
    }
   ],
   "source": [
    "torch.cuda.empty_cache() \n",
    "gc.collect()"
   ]
  },
  {
   "cell_type": "code",
   "execution_count": 5,
   "id": "1357ca3b-c3f1-49a2-8612-c37fd7bf2fd0",
   "metadata": {},
   "outputs": [],
   "source": [
    "# !wget https://huggingface.co/TheBloke/Llama-2-13B-chat-GGUF/resolve/main/llama-2-13b-chat.Q6_K.gguf"
   ]
  },
  {
   "cell_type": "code",
   "execution_count": null,
   "id": "ac6939b9-b99e-4b55-a6f8-c416e64abb92",
   "metadata": {},
   "outputs": [],
   "source": [
    "!gpustat -cp"
   ]
  },
  {
   "cell_type": "code",
   "execution_count": null,
   "id": "c359cef1-d1cb-48da-8344-c7a94cbeda3c",
   "metadata": {},
   "outputs": [],
   "source": []
  },
  {
   "cell_type": "code",
   "execution_count": 9,
   "id": "adfd04ef-f53b-416d-8e44-7e89ca4f5035",
   "metadata": {},
   "outputs": [],
   "source": [
    "# model_path = \"BIG-bench/llama-2-13b.Q4_0.gguf\"\n",
    "model_path = \"BIG-bench/llama-2-13b-chat.Q6_K.gguf\""
   ]
  },
  {
   "cell_type": "code",
   "execution_count": 3,
   "id": "646c4d9d-f99b-43da-9325-0810d2884c0f",
   "metadata": {
    "tags": []
   },
   "outputs": [],
   "source": [
    "context_dict = {'context': context[:1000]}  \n",
    "context_df = pd.DataFrame(context_dict) \n",
    "    \n",
    "# write the DataFrame to a CSV file\n",
    "# df.to_csv('SIQA_context_1000.csv', index=True, index_label='ID') "
   ]
  },
  {
   "cell_type": "code",
   "execution_count": null,
   "id": "8358bc99-92da-48af-b069-50dea3ef5079",
   "metadata": {},
   "outputs": [],
   "source": [
    "llm = Llama(model_path=model_path, n_gpu_layers=-1, n_ctx=4096, logits_all=True, verbose=False)"
   ]
  },
  {
   "cell_type": "code",
   "execution_count": null,
   "id": "ada2bea2-1b98-4124-9d8f-d5bb51c8beaa",
   "metadata": {},
   "outputs": [],
   "source": []
  },
  {
   "cell_type": "code",
   "execution_count": 49,
   "id": "1116690d-2a5a-42b0-b25e-fd5d32eac96d",
   "metadata": {},
   "outputs": [],
   "source": [
    "def get_perplexity(prompt):\n",
    "    # t = \" \" + target[j]\n",
    "\n",
    "    # choice = bytes(t, encoding='utf-8')\n",
    "\n",
    "    num_t = llm.tokenize(text=bytes(prompt,encoding='utf-8'))\n",
    "    # print(num_t, len(num_t))\n",
    "    num_t = len(num_t) - 1\n",
    "    \n",
    "    result = llm(prompt, echo=True, logprobs=1, presence_penalty=0, max_tokens=1)\n",
    "    # print(result)\n",
    "\n",
    "    # print(result['choices'][0]['logprobs']['tokens'][-tokens_choice_len:-1], result['choices'][0]['logprobs']['token_logprobs'][-tokens_choice_len:-1])\n",
    "    # print(len(result['choices'][0]['logprobs']['token_logprobs'][0:-1]),num_t)\n",
    "    seq_score = -sum(result['choices'][0]['logprobs']['token_logprobs'][1:-1])/num_t\n",
    "    \n",
    "    perplexity = math.exp(\n",
    "    \n",
    "    return seq_score"
   ]
  },
  {
   "cell_type": "code",
   "execution_count": 50,
   "id": "9e0358c8-dfd9-40cc-b739-43a237ddc132",
   "metadata": {},
   "outputs": [],
   "source": [
    "task_module_name = f\"BIG-bench.bigbench.benchmark_tasks.social_iqa\"\n",
    "task_module = importlib.import_module(task_module_name)\n",
    "module_path = list(task_module.__path__)[0]\n",
    "json_path = os.path.join(module_path, \"task.json\")"
   ]
  },
  {
   "cell_type": "code",
   "execution_count": null,
   "id": "81e82a33-beb9-4e3a-b03c-880fae5a667a",
   "metadata": {
    "scrolled": true,
    "tags": []
   },
   "outputs": [],
   "source": [
    "contexts_all = []\n",
    "perplexity_all = []\n",
    "with open(json_path, 'r') as f:\n",
    "    dataset = json.load(f)['examples']\n",
    "    \n",
    "for sample in dataset:\n",
    "    inp = sample['input']\n",
    "    c = inp.split(\".\")[0].strip() # get context string\n",
    "    llm.reset()\n",
    "    print(\"---------------\")\n",
    "    print(\"Sentence: \", c,\"\\n\")\n",
    "    perplexity = get_perplexity(c)\n",
    "    print(\"Perplexity: \", perplexity)\n",
    "    contexts_all.append(c)\n",
    "    perplexity_all.append(perplexity)\n"
   ]
  },
  {
   "cell_type": "code",
   "execution_count": null,
   "id": "bfc989ab-468b-4500-b8fb-6b7646d3e69a",
   "metadata": {},
   "outputs": [],
   "source": [
    "import pandas as pd"
   ]
  },
  {
   "cell_type": "code",
   "execution_count": null,
   "id": "99fa53b5-ed0c-4928-9841-144e99f844eb",
   "metadata": {},
   "outputs": [],
   "source": [
    "perplexity_dict = {'context': contexts_all, 'perplexity': perplexity_all} \n",
    "    \n",
    "df = pd.DataFrame(perplexity_dict)"
   ]
  },
  {
   "cell_type": "code",
   "execution_count": null,
   "id": "f14c2863-4af4-486e-a81e-a5fffa0f53f3",
   "metadata": {},
   "outputs": [],
   "source": [
    "df.to_csv(\"logs/\"+\"baseline_perplexity.csv\")"
   ]
  },
  {
   "cell_type": "code",
   "execution_count": null,
   "id": "8a3380eb-9505-4bfe-9309-ff0dec5fe9f0",
   "metadata": {},
   "outputs": [],
   "source": []
  }
 ],
 "metadata": {
  "kernelspec": {
   "display_name": "Python 3 (ipykernel)",
   "language": "python",
   "name": "python3"
  },
  "language_info": {
   "codemirror_mode": {
    "name": "ipython",
    "version": 3
   },
   "file_extension": ".py",
   "mimetype": "text/x-python",
   "name": "python",
   "nbconvert_exporter": "python",
   "pygments_lexer": "ipython3",
   "version": "3.8.13"
  }
 },
 "nbformat": 4,
 "nbformat_minor": 5
}
