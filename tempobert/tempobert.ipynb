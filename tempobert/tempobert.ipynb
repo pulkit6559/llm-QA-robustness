{
 "cells": [
  {
   "cell_type": "code",
   "execution_count": 1,
   "id": "3ba3a622-315c-4442-8c3c-152bd00d7782",
   "metadata": {},
   "outputs": [
    {
     "name": "stdout",
     "output_type": "stream",
     "text": [
      "Cloning into 'tempobert'...\n",
      "remote: Enumerating objects: 39, done.\u001b[K\n",
      "remote: Counting objects: 100% (33/33), done.\u001b[K\n",
      "remote: Compressing objects: 100% (28/28), done.\u001b[K\n",
      "remote: Total 39 (delta 8), reused 18 (delta 5), pack-reused 6\u001b[K\n",
      "Unpacking objects: 100% (39/39), 42.26 MiB | 2.68 MiB/s, done.\n"
     ]
    }
   ],
   "source": [
    "!git clone https://github.com/guyrosin/tempobert.git"
   ]
  },
  {
   "cell_type": "code",
   "execution_count": 17,
   "id": "8ff87c91-e247-414a-a87e-7f34f5d5c507",
   "metadata": {},
   "outputs": [],
   "source": [
    "!cd tempobert"
   ]
  },
  {
   "cell_type": "code",
   "execution_count": 18,
   "id": "02730fb2-be41-41ed-92a2-b81d79d486b5",
   "metadata": {},
   "outputs": [
    {
     "name": "stdout",
     "output_type": "stream",
     "text": [
      "BIG-bench\t\t\t    SIQA_context_1200.csv\n",
      "demo_paraphrases.ipynb\t\t    SIQA_context.csv\n",
      "llamachat_eval_0shot.ipynb\t    socialiqa-train-dev\n",
      "load_data.py\t\t\t    tempobert\n",
      "paraphrase_gender_100.ipynb\t    tempobert.ipynb\n",
      "paraphrase.py\t\t\t    Untitled.ipynb\n",
      "paraphrase_vocab_extrapolate.ipynb  updated_logprob.ipynb\n",
      "SIQA_context_1000.csv\n"
     ]
    }
   ],
   "source": [
    "!ls"
   ]
  },
  {
   "cell_type": "code",
   "execution_count": 19,
   "id": "9fa86a0c-8b77-4b59-a795-7d8e5859834d",
   "metadata": {},
   "outputs": [
    {
     "name": "stdout",
     "output_type": "stream",
     "text": [
      "/usr/bin/sh: 1: .: Can't open bertenv/bin/activate\n"
     ]
    }
   ],
   "source": [
    "!. bertenv/bin/activate"
   ]
  },
  {
   "cell_type": "code",
   "execution_count": 2,
   "id": "8863a48f-938b-4810-8ec8-532c9c13cd3d",
   "metadata": {},
   "outputs": [],
   "source": [
    "# !pip3 install --compile -r requirements.txt --no-cache-dir "
   ]
  },
  {
   "cell_type": "code",
   "execution_count": 7,
   "id": "c275217d-b274-4b53-a6e1-4624373c0f5e",
   "metadata": {},
   "outputs": [],
   "source": []
  },
  {
   "cell_type": "code",
   "execution_count": 12,
   "id": "9304624b-8a16-4274-8db0-6225a2be9fd1",
   "metadata": {},
   "outputs": [
    {
     "name": "stdout",
     "output_type": "stream",
     "text": [
      "None of PyTorch, TensorFlow >= 2.0, or Flax have been found. Models won't be available and only tokenizers, configuration and file/data utilities can be used.\n",
      "Traceback (most recent call last):\n",
      "  File \"tempobert/train_tempobert.py\", line 23, in <module>\n",
      "    from temporal_data_collator import DataCollatorForTimePrependedLanguageModeling\n",
      "  File \"/home/arora/project-gxb/caisa-rob/tempobert/temporal_data_collator.py\", line 4, in <module>\n",
      "    import torch\n",
      "ModuleNotFoundError: No module named 'torch'\n"
     ]
    }
   ],
   "source": [
    "!python3.8 tempobert/train_tempobert.py"
   ]
  },
  {
   "cell_type": "code",
   "execution_count": 22,
   "id": "2691d5ad-7a51-48b0-b4c6-f1d2a53aff4d",
   "metadata": {},
   "outputs": [],
   "source": [
    "from loguru import logger"
   ]
  },
  {
   "cell_type": "code",
   "execution_count": 23,
   "id": "8d3272f1-473a-4b80-992c-beef5a82d190",
   "metadata": {},
   "outputs": [
    {
     "name": "stdout",
     "output_type": "stream",
     "text": [
      "Python 3.10.8 | packaged by conda-forge | (main, Nov 22 2022, 08:26:04) [GCC 10.4.0] on linux\n",
      "Type \"help\", \"copyright\", \"credits\" or \"license\" for more information.\n",
      ">>> \n",
      "Traceback (most recent call last):\n",
      "  File \"<stdin>\", line 1, in <module>\n",
      "KeyboardInterrupt\n",
      ">>> "
     ]
    }
   ],
   "source": [
    "!python"
   ]
  },
  {
   "cell_type": "code",
   "execution_count": null,
   "id": "e45c5a39-30f0-448d-8a74-9a0f1a398a2d",
   "metadata": {},
   "outputs": [],
   "source": []
  }
 ],
 "metadata": {
  "kernelspec": {
   "display_name": "bertenv",
   "language": "python",
   "name": "bertenv"
  },
  "language_info": {
   "codemirror_mode": {
    "name": "ipython",
    "version": 3
   },
   "file_extension": ".py",
   "mimetype": "text/x-python",
   "name": "python",
   "nbconvert_exporter": "python",
   "pygments_lexer": "ipython3",
   "version": "3.8.10"
  }
 },
 "nbformat": 4,
 "nbformat_minor": 5
}
